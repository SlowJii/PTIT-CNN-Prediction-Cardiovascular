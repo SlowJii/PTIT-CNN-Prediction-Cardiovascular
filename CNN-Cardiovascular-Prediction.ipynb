{
 "cells": [
  {
   "cell_type": "markdown",
   "metadata": {},
   "source": [
    "<p style=\"text-align:center\">\n",
    "    <a href=\"https://www.ptit.edu.vn\" target=\"_blank\">\n",
    "        <img src=\"https://i.imgur.com/XBSxCH1.png\" width=\"400\" alt=\"PTIT Logo\">\n",
    "    </a>\n",
    "</p>\n"
   ]
  },
  {
   "cell_type": "markdown",
   "metadata": {},
   "source": [
    "<center>\n",
    "\n",
    "# **Practice lab: Cardiovascular Prediction**\n",
    "\n",
    "</center>\n"
   ]
  },
  {
   "cell_type": "markdown",
   "metadata": {},
   "source": [
    "### THƯ VIỆN "
   ]
  },
  {
   "cell_type": "code",
   "execution_count": 1,
   "metadata": {},
   "outputs": [],
   "source": [
    "import pandas as pd\n",
    "import numpy as np\n",
    "import matplotlib.pyplot as plt\n",
    "import tensorflow as tf\n",
    "from tensorflow import keras\n",
    "\n",
    "import copy\n",
    "\n",
    "from sklearn.preprocessing import StandardScaler\n",
    "from sklearn.linear_model import Lasso\n",
    "\n",
    "from sklearn.linear_model import LogisticRegression\n",
    "from sklearn.ensemble import RandomForestClassifier\n",
    "from sklearn.model_selection import train_test_split\n",
    "from sklearn.metrics import accuracy_score, recall_score, roc_auc_score\n",
    "from sklearn import preprocessing\n",
    "np.random.seed(2095)"
   ]
  },
  {
   "cell_type": "markdown",
   "metadata": {},
   "source": [
    "### ĐỌC DỮ LIỆU TỪ DATASET"
   ]
  },
  {
   "cell_type": "code",
   "execution_count": 2,
   "metadata": {},
   "outputs": [],
   "source": [
    "file_path = r'D:\\PTIT-CNN-Prediction-Cardiovascular\\CardiacPrediction.xlsx'\n",
    "df = pd.read_excel(file_path, sheet_name='CoroHeartDis')"
   ]
  },
  {
   "cell_type": "markdown",
   "metadata": {},
   "source": [
    "### KHAI PHÁ DỮ LIỆU"
   ]
  },
  {
   "cell_type": "code",
   "execution_count": 3,
   "metadata": {},
   "outputs": [
    {
     "name": "stdout",
     "output_type": "stream",
     "text": [
      "<class 'pandas.core.frame.DataFrame'>\n",
      "RangeIndex: 37079 entries, 0 to 37078\n",
      "Data columns (total 51 columns):\n",
      " #   Column                       Non-Null Count  Dtype  \n",
      "---  ------                       --------------  -----  \n",
      " 0   SEQN                         37079 non-null  int64  \n",
      " 1   Gender                       37079 non-null  int64  \n",
      " 2   Age                          37079 non-null  int64  \n",
      " 3   Annual-Family-Income         37079 non-null  int64  \n",
      " 4   Ratio-Family-Income-Poverty  37079 non-null  float64\n",
      " 5   X60-sec-pulse                37079 non-null  int64  \n",
      " 6   Systolic                     37079 non-null  int64  \n",
      " 7   Diastolic                    37079 non-null  int64  \n",
      " 8   Weight                       37079 non-null  float64\n",
      " 9   Height                       37079 non-null  float64\n",
      " 10  Body-Mass-Index              37079 non-null  float64\n",
      " 11  White-Blood-Cells            37079 non-null  float64\n",
      " 12  Lymphocyte                   37079 non-null  float64\n",
      " 13  Monocyte                     37079 non-null  float64\n",
      " 14  Eosinophils                  37079 non-null  float64\n",
      " 15  Basophils                    37079 non-null  float64\n",
      " 16  Red-Blood-Cells              37079 non-null  float64\n",
      " 17  Hemoglobin                   37079 non-null  float64\n",
      " 18  Mean-Cell-Vol                37079 non-null  float64\n",
      " 19  Mean-Cell-Hgb-Conc.          37079 non-null  float64\n",
      " 20  Mean-cell-Hemoglobin         37079 non-null  float64\n",
      " 21  Platelet-count               37079 non-null  float64\n",
      " 22  Mean-Platelet-Vol            37079 non-null  float64\n",
      " 23  Segmented-Neutrophils        37079 non-null  float64\n",
      " 24  Hematocrit                   37079 non-null  float64\n",
      " 25  Red-Cell-Distribution-Width  37079 non-null  float64\n",
      " 26  Albumin                      37079 non-null  int64  \n",
      " 27  ALP                          37079 non-null  int64  \n",
      " 28  AST                          37079 non-null  int64  \n",
      " 29  ALT                          37079 non-null  int64  \n",
      " 30  Cholesterol                  37079 non-null  float64\n",
      " 31  Creatinine                   37079 non-null  float64\n",
      " 32  Glucose                      37079 non-null  float64\n",
      " 33  GGT                          37079 non-null  int64  \n",
      " 34  Iron                         37079 non-null  float64\n",
      " 35  LDH                          37079 non-null  int64  \n",
      " 36  Phosphorus                   37079 non-null  float64\n",
      " 37  Bilirubin                    37079 non-null  float64\n",
      " 38  Protein                      37079 non-null  float64\n",
      " 39  Uric.Acid                    37079 non-null  float64\n",
      " 40  Triglycerides                37079 non-null  float64\n",
      " 41  Total-Cholesterol            37079 non-null  float64\n",
      " 42  HDL                          37079 non-null  float64\n",
      " 43  Glycohemoglobin              37079 non-null  float64\n",
      " 44  Vigorous-work                37079 non-null  int64  \n",
      " 45  Moderate-work                37079 non-null  int64  \n",
      " 46  Health-Insurance             37079 non-null  int64  \n",
      " 47  Diabetes                     37079 non-null  int64  \n",
      " 48  Blood-Rel-Diabetes           37079 non-null  int64  \n",
      " 49  Blood-Rel-Stroke             37079 non-null  int64  \n",
      " 50  CoronaryHeartDisease         37079 non-null  int64  \n",
      "dtypes: float64(31), int64(20)\n",
      "memory usage: 14.4 MB\n"
     ]
    }
   ],
   "source": [
    "df.info()"
   ]
  },
  {
   "cell_type": "code",
   "execution_count": 4,
   "metadata": {},
   "outputs": [
    {
     "data": {
      "text/html": [
       "<div>\n",
       "<style scoped>\n",
       "    .dataframe tbody tr th:only-of-type {\n",
       "        vertical-align: middle;\n",
       "    }\n",
       "\n",
       "    .dataframe tbody tr th {\n",
       "        vertical-align: top;\n",
       "    }\n",
       "\n",
       "    .dataframe thead th {\n",
       "        text-align: right;\n",
       "    }\n",
       "</style>\n",
       "<table border=\"1\" class=\"dataframe\">\n",
       "  <thead>\n",
       "    <tr style=\"text-align: right;\">\n",
       "      <th></th>\n",
       "      <th>SEQN</th>\n",
       "      <th>Gender</th>\n",
       "      <th>Age</th>\n",
       "      <th>Annual-Family-Income</th>\n",
       "      <th>Ratio-Family-Income-Poverty</th>\n",
       "      <th>X60-sec-pulse</th>\n",
       "      <th>Systolic</th>\n",
       "      <th>Diastolic</th>\n",
       "      <th>Weight</th>\n",
       "      <th>Height</th>\n",
       "      <th>...</th>\n",
       "      <th>Total-Cholesterol</th>\n",
       "      <th>HDL</th>\n",
       "      <th>Glycohemoglobin</th>\n",
       "      <th>Vigorous-work</th>\n",
       "      <th>Moderate-work</th>\n",
       "      <th>Health-Insurance</th>\n",
       "      <th>Diabetes</th>\n",
       "      <th>Blood-Rel-Diabetes</th>\n",
       "      <th>Blood-Rel-Stroke</th>\n",
       "      <th>CoronaryHeartDisease</th>\n",
       "    </tr>\n",
       "  </thead>\n",
       "  <tbody>\n",
       "    <tr>\n",
       "      <th>count</th>\n",
       "      <td>37079.000000</td>\n",
       "      <td>37079.000000</td>\n",
       "      <td>37079.000000</td>\n",
       "      <td>37079.000000</td>\n",
       "      <td>37079.000000</td>\n",
       "      <td>37079.000000</td>\n",
       "      <td>37079.000000</td>\n",
       "      <td>37079.000000</td>\n",
       "      <td>37079.000000</td>\n",
       "      <td>37079.000000</td>\n",
       "      <td>...</td>\n",
       "      <td>37079.000000</td>\n",
       "      <td>37079.000000</td>\n",
       "      <td>37079.000000</td>\n",
       "      <td>37079.000000</td>\n",
       "      <td>37079.000000</td>\n",
       "      <td>37079.000000</td>\n",
       "      <td>37079.000000</td>\n",
       "      <td>37079.000000</td>\n",
       "      <td>37079.000000</td>\n",
       "      <td>37079.000000</td>\n",
       "    </tr>\n",
       "    <tr>\n",
       "      <th>mean</th>\n",
       "      <td>48901.041236</td>\n",
       "      <td>1.513282</td>\n",
       "      <td>48.943661</td>\n",
       "      <td>7.358208</td>\n",
       "      <td>2.559026</td>\n",
       "      <td>72.579250</td>\n",
       "      <td>124.090078</td>\n",
       "      <td>69.919253</td>\n",
       "      <td>80.988276</td>\n",
       "      <td>167.389601</td>\n",
       "      <td>...</td>\n",
       "      <td>5.081713</td>\n",
       "      <td>1.370344</td>\n",
       "      <td>5.676496</td>\n",
       "      <td>1.783840</td>\n",
       "      <td>1.598856</td>\n",
       "      <td>1.218587</td>\n",
       "      <td>1.907333</td>\n",
       "      <td>1.549502</td>\n",
       "      <td>1.796165</td>\n",
       "      <td>0.040670</td>\n",
       "    </tr>\n",
       "    <tr>\n",
       "      <th>std</th>\n",
       "      <td>26753.636441</td>\n",
       "      <td>0.499830</td>\n",
       "      <td>18.010440</td>\n",
       "      <td>3.994083</td>\n",
       "      <td>1.624789</td>\n",
       "      <td>12.242108</td>\n",
       "      <td>19.254741</td>\n",
       "      <td>13.575804</td>\n",
       "      <td>20.678734</td>\n",
       "      <td>10.122908</td>\n",
       "      <td>...</td>\n",
       "      <td>1.072682</td>\n",
       "      <td>0.415985</td>\n",
       "      <td>1.050223</td>\n",
       "      <td>0.448324</td>\n",
       "      <td>0.511199</td>\n",
       "      <td>0.461102</td>\n",
       "      <td>0.349674</td>\n",
       "      <td>0.497550</td>\n",
       "      <td>0.402853</td>\n",
       "      <td>0.197527</td>\n",
       "    </tr>\n",
       "    <tr>\n",
       "      <th>min</th>\n",
       "      <td>2.000000</td>\n",
       "      <td>1.000000</td>\n",
       "      <td>20.000000</td>\n",
       "      <td>1.000000</td>\n",
       "      <td>0.000000</td>\n",
       "      <td>32.000000</td>\n",
       "      <td>0.000000</td>\n",
       "      <td>0.000000</td>\n",
       "      <td>32.300000</td>\n",
       "      <td>129.700000</td>\n",
       "      <td>...</td>\n",
       "      <td>1.530000</td>\n",
       "      <td>0.160000</td>\n",
       "      <td>2.000000</td>\n",
       "      <td>1.000000</td>\n",
       "      <td>1.000000</td>\n",
       "      <td>1.000000</td>\n",
       "      <td>1.000000</td>\n",
       "      <td>1.000000</td>\n",
       "      <td>1.000000</td>\n",
       "      <td>0.000000</td>\n",
       "    </tr>\n",
       "    <tr>\n",
       "      <th>25%</th>\n",
       "      <td>26120.500000</td>\n",
       "      <td>1.000000</td>\n",
       "      <td>33.000000</td>\n",
       "      <td>4.000000</td>\n",
       "      <td>1.140000</td>\n",
       "      <td>64.000000</td>\n",
       "      <td>111.000000</td>\n",
       "      <td>62.000000</td>\n",
       "      <td>66.500000</td>\n",
       "      <td>160.000000</td>\n",
       "      <td>...</td>\n",
       "      <td>4.320000</td>\n",
       "      <td>1.070000</td>\n",
       "      <td>5.200000</td>\n",
       "      <td>2.000000</td>\n",
       "      <td>1.000000</td>\n",
       "      <td>1.000000</td>\n",
       "      <td>2.000000</td>\n",
       "      <td>1.000000</td>\n",
       "      <td>2.000000</td>\n",
       "      <td>0.000000</td>\n",
       "    </tr>\n",
       "    <tr>\n",
       "      <th>50%</th>\n",
       "      <td>50065.000000</td>\n",
       "      <td>2.000000</td>\n",
       "      <td>48.000000</td>\n",
       "      <td>7.000000</td>\n",
       "      <td>2.180000</td>\n",
       "      <td>72.000000</td>\n",
       "      <td>121.000000</td>\n",
       "      <td>70.000000</td>\n",
       "      <td>78.200000</td>\n",
       "      <td>167.100000</td>\n",
       "      <td>...</td>\n",
       "      <td>5.020000</td>\n",
       "      <td>1.290000</td>\n",
       "      <td>5.400000</td>\n",
       "      <td>2.000000</td>\n",
       "      <td>2.000000</td>\n",
       "      <td>1.000000</td>\n",
       "      <td>2.000000</td>\n",
       "      <td>2.000000</td>\n",
       "      <td>2.000000</td>\n",
       "      <td>0.000000</td>\n",
       "    </tr>\n",
       "    <tr>\n",
       "      <th>75%</th>\n",
       "      <td>71173.500000</td>\n",
       "      <td>2.000000</td>\n",
       "      <td>63.000000</td>\n",
       "      <td>10.000000</td>\n",
       "      <td>4.130000</td>\n",
       "      <td>80.000000</td>\n",
       "      <td>134.000000</td>\n",
       "      <td>78.000000</td>\n",
       "      <td>92.100000</td>\n",
       "      <td>174.600000</td>\n",
       "      <td>...</td>\n",
       "      <td>5.740000</td>\n",
       "      <td>1.600000</td>\n",
       "      <td>5.800000</td>\n",
       "      <td>2.000000</td>\n",
       "      <td>2.000000</td>\n",
       "      <td>1.000000</td>\n",
       "      <td>2.000000</td>\n",
       "      <td>2.000000</td>\n",
       "      <td>2.000000</td>\n",
       "      <td>0.000000</td>\n",
       "    </tr>\n",
       "    <tr>\n",
       "      <th>max</th>\n",
       "      <td>93702.000000</td>\n",
       "      <td>2.000000</td>\n",
       "      <td>85.000000</td>\n",
       "      <td>15.000000</td>\n",
       "      <td>5.000000</td>\n",
       "      <td>224.000000</td>\n",
       "      <td>270.000000</td>\n",
       "      <td>132.000000</td>\n",
       "      <td>371.000000</td>\n",
       "      <td>204.500000</td>\n",
       "      <td>...</td>\n",
       "      <td>14.090000</td>\n",
       "      <td>5.840000</td>\n",
       "      <td>18.800000</td>\n",
       "      <td>3.000000</td>\n",
       "      <td>3.000000</td>\n",
       "      <td>9.000000</td>\n",
       "      <td>3.000000</td>\n",
       "      <td>2.000000</td>\n",
       "      <td>2.000000</td>\n",
       "      <td>1.000000</td>\n",
       "    </tr>\n",
       "  </tbody>\n",
       "</table>\n",
       "<p>8 rows × 51 columns</p>\n",
       "</div>"
      ],
      "text/plain": [
       "               SEQN        Gender           Age  Annual-Family-Income  \\\n",
       "count  37079.000000  37079.000000  37079.000000          37079.000000   \n",
       "mean   48901.041236      1.513282     48.943661              7.358208   \n",
       "std    26753.636441      0.499830     18.010440              3.994083   \n",
       "min        2.000000      1.000000     20.000000              1.000000   \n",
       "25%    26120.500000      1.000000     33.000000              4.000000   \n",
       "50%    50065.000000      2.000000     48.000000              7.000000   \n",
       "75%    71173.500000      2.000000     63.000000             10.000000   \n",
       "max    93702.000000      2.000000     85.000000             15.000000   \n",
       "\n",
       "       Ratio-Family-Income-Poverty  X60-sec-pulse      Systolic     Diastolic  \\\n",
       "count                 37079.000000   37079.000000  37079.000000  37079.000000   \n",
       "mean                      2.559026      72.579250    124.090078     69.919253   \n",
       "std                       1.624789      12.242108     19.254741     13.575804   \n",
       "min                       0.000000      32.000000      0.000000      0.000000   \n",
       "25%                       1.140000      64.000000    111.000000     62.000000   \n",
       "50%                       2.180000      72.000000    121.000000     70.000000   \n",
       "75%                       4.130000      80.000000    134.000000     78.000000   \n",
       "max                       5.000000     224.000000    270.000000    132.000000   \n",
       "\n",
       "             Weight        Height  ...  Total-Cholesterol           HDL  \\\n",
       "count  37079.000000  37079.000000  ...       37079.000000  37079.000000   \n",
       "mean      80.988276    167.389601  ...           5.081713      1.370344   \n",
       "std       20.678734     10.122908  ...           1.072682      0.415985   \n",
       "min       32.300000    129.700000  ...           1.530000      0.160000   \n",
       "25%       66.500000    160.000000  ...           4.320000      1.070000   \n",
       "50%       78.200000    167.100000  ...           5.020000      1.290000   \n",
       "75%       92.100000    174.600000  ...           5.740000      1.600000   \n",
       "max      371.000000    204.500000  ...          14.090000      5.840000   \n",
       "\n",
       "       Glycohemoglobin  Vigorous-work  Moderate-work  Health-Insurance  \\\n",
       "count     37079.000000   37079.000000   37079.000000      37079.000000   \n",
       "mean          5.676496       1.783840       1.598856          1.218587   \n",
       "std           1.050223       0.448324       0.511199          0.461102   \n",
       "min           2.000000       1.000000       1.000000          1.000000   \n",
       "25%           5.200000       2.000000       1.000000          1.000000   \n",
       "50%           5.400000       2.000000       2.000000          1.000000   \n",
       "75%           5.800000       2.000000       2.000000          1.000000   \n",
       "max          18.800000       3.000000       3.000000          9.000000   \n",
       "\n",
       "           Diabetes  Blood-Rel-Diabetes  Blood-Rel-Stroke  \\\n",
       "count  37079.000000        37079.000000      37079.000000   \n",
       "mean       1.907333            1.549502          1.796165   \n",
       "std        0.349674            0.497550          0.402853   \n",
       "min        1.000000            1.000000          1.000000   \n",
       "25%        2.000000            1.000000          2.000000   \n",
       "50%        2.000000            2.000000          2.000000   \n",
       "75%        2.000000            2.000000          2.000000   \n",
       "max        3.000000            2.000000          2.000000   \n",
       "\n",
       "       CoronaryHeartDisease  \n",
       "count          37079.000000  \n",
       "mean               0.040670  \n",
       "std                0.197527  \n",
       "min                0.000000  \n",
       "25%                0.000000  \n",
       "50%                0.000000  \n",
       "75%                0.000000  \n",
       "max                1.000000  \n",
       "\n",
       "[8 rows x 51 columns]"
      ]
     },
     "execution_count": 4,
     "metadata": {},
     "output_type": "execute_result"
    }
   ],
   "source": [
    "df.describe()"
   ]
  },
  {
   "cell_type": "markdown",
   "metadata": {},
   "source": [
    "### GIẢI THÍCH BỘ DỮ LIỆU LÂM SÀNG\n",
    "- Chỉ số nhân khẩu học\n",
    "    - Gender, Age: Giới tính và tuổi của bệnh nhân\n",
    "    - SEQN: Mã định danh người tham gia\n",
    "    - Annual-Family-Income: Thu nhập hàng năm của hộ gia đình\n",
    "    - Ratio-Family-Income-Poverty: Tỷ lệ thu nhập hộ gia đình và ngưỡng nghèo liên bang\n",
    "- Thông tin sinh lý cơ bản\n",
    "    - X60-sec-pulse: Nhịp tim (số lần đập/phút)\n",
    "    - Systolic: Huyết áp tâm thu\n",
    "    - Diastolic: Huyết áp tâm trương\n",
    "    - Weight: Trọng lượng\n",
    "    - Height: Chiều cao\n",
    "    - Body-Mass-Index: Chỉ số khối cơ thể (BMI)\n",
    "- Chỉ số huyết học\n",
    "    - White-Blood-Cells (WBC): Số lượng bạch cầu (10^3/μL), giúp đánh giá tình trạng nhiễm trùng hoặc các bệnh lý miễn dịch\n",
    "    - Lymphocyte: Phần trăm lymphocyte, một loại bạch cầu liên quan đến miễn dịch\n",
    "    - Monocyte: Phần trăm monocyte, tham gia vào việc chống lại nhiễm trùng\n",
    "    - Eosinophils: Phần trăm bạch cầu ái toan, thường tăng trong các phản ứng dị ứng hoặc nhiễm ký sinh trùng\n",
    "    - Basophils: Phần trăm bạch cầu ưa kiềm, liên quan đến các phản ứng dị ứng\n",
    "    - Red-Blood-Cells (RBC): Số lượng hồng cầu (10^6/μL), đánh giá khả năng vận chuyển oxy\n",
    "    - Hemoglobin (Hb): Nồng độ hemoglobin (g/dL), chỉ số quan trọng trong đánh giá thiếu máu\n",
    "    - Mean-Cell-Vol (MCV): Thể tích trung bình của hồng cầu, giúp xác định loại thiếu máu\n",
    "    - Mean-Cell-Hgb-Conc. (MCHC): Nồng độ hemoglobin trung bình trong một hồng cầu\n",
    "    - Mean-cell-Hemoglobin (MCH): Lượng hemoglobin trung bình trong một hồng cầu\n",
    "    - Platelet-count: Số lượng tiểu cầu (10^3/μL), liên quan đến khả năng đông máu\n",
    "    - Mean-Platelet-Vol: Thể tích trung bình của tiểu cầu\n",
    "    - Segmented-Neutrophils: Phần trăm bạch cầu trung tính, quan trọng trong đáp ứng miễn dịch\n",
    "    - Hematocrit: Tỷ lệ phần trăm tế bào máu trong tổng thể tích máu\n",
    "    - Red-Cell-Distribution-Width (RDW): Độ phân phối kích thước hồng cầu, thường tăng trong các dạng thiếu máu\n",
    "- Chỉ số sinh hóa máu\n",
    "    - Albumin: Protein trong huyết thanh, phản ánh tình trạng dinh dưỡng và chức năng gan\n",
    "    - ALP (Alkaline Phosphatase): Enzym phosphatase kiềm, liên quan đến chức năng gan, mật và xương\n",
    "    - AST (Aspartate Transaminase): Enzym liên quan đến tổn thương tế bào gan hoặc cơ tim\n",
    "    - ALT (Alanine Transaminase): Enzym chỉ điểm tổn thương gan\n",
    "    - Cholesterol: Cholesterol toàn phần (mmol/L), liên quan đến nguy cơ bệnh tim mạch\n",
    "    - Creatinine: Sản phẩm thoái hóa của cơ, chỉ số chức năng thận\n",
    "    - Glucose: Nồng độ đường trong máu, dùng để chẩn đoán bệnh tiểu đường\n",
    "    - GGT (Gamma-Glutamyl Transferase): Enzym phản ánh tổn thương gan hoặc sử dụng rượu kéo dài\n",
    "    - Iron: Hàm lượng sắt trong máu, liên quan đến bệnh thiếu máu hoặc quá tải sắt\n",
    "    - LDH (Lactate Dehydrogenase): Enzym liên quan đến tổn thương tế bào\n",
    "    - Phosphorus: Nồng độ photphat máu, quan trọng trong chức năng xương và thận\n",
    "    - Bilirubin: Sản phẩm phân hủy của hemoglobin, chỉ điểm chức năng gan và mật\n",
    "    - Protein: Tổng lượng protein trong huyết thanh\n",
    "    - Uric.Acid: Nồng độ acid uric, liên quan đến bệnh gout\n",
    "    - Triglycerides: Mỡ trung tính trong máu, liên quan đến bệnh lý tim mạch\n",
    "    - Total-Cholesterol: Cholesterol toàn phần (mmol/L)\n",
    "    - HDL: Cholesterol tốt (HDL), bảo vệ tim mạch\n",
    "    - Glycohemoglobin (HbA1c): Chỉ số kiểm soát đường máu dài hạn, quan trọng trong bệnh tiểu đường\n",
    "- Lối sống và yếu tố gia đình\n",
    "    - Vigorous-work: Mức độ tham gia công việc nặng (mã hóa: 1 - Thấp, 3 - Cao)\n",
    "    - Moderate-work: Mức độ tham gia công việc vừa (mã hóa tương tự)\n",
    "    - Health-Insurance: Có bảo hiểm y tế hay không (1: Có, 2: Không)\n",
    "    - Diabetes: Tiền sử bệnh tiểu đường (1: Có, 2: Không)\n",
    "    - Blood-Rel-Diabetes: Có người thân bị tiểu đường (1: Có, 2: Không)\n",
    "    - Blood-Rel-Stroke: Có người thân bị đột quỵ (1: Có, 2: Không)\n",
    "- Biến mục tiêu\n",
    "    - CoronaryHeartDisease: Biến mục tiêu, biểu thị bệnh tim mạch vành (0: Không mắc, 1: Mắc)"
   ]
  },
  {
   "cell_type": "code",
   "execution_count": 5,
   "metadata": {},
   "outputs": [
    {
     "data": {
      "text/plain": [
       "CoronaryHeartDisease\n",
       "0    35571\n",
       "1     1508\n",
       "Name: count, dtype: int64"
      ]
     },
     "execution_count": 5,
     "metadata": {},
     "output_type": "execute_result"
    }
   ],
   "source": [
    "df['CoronaryHeartDisease'].value_counts()"
   ]
  },
  {
   "cell_type": "markdown",
   "metadata": {},
   "source": [
    "📶  Có thể thấy sự mất cân bằng dữ liệu rất lớn trên tập dữ liệu này với tỉ lệ 1:35 (Người mắc bệnh : Người không mắc bệnh)"
   ]
  },
  {
   "cell_type": "markdown",
   "metadata": {},
   "source": [
    "### TIỀN XỬ LÝ DỮ LIỆU"
   ]
  },
  {
   "cell_type": "markdown",
   "metadata": {},
   "source": [
    "Kiểm tra các giá trị khuyết (Null, NaN)"
   ]
  },
  {
   "cell_type": "code",
   "execution_count": 6,
   "metadata": {},
   "outputs": [
    {
     "name": "stdout",
     "output_type": "stream",
     "text": [
      "SEQN                           0\n",
      "Gender                         0\n",
      "Age                            0\n",
      "Annual-Family-Income           0\n",
      "Ratio-Family-Income-Poverty    0\n",
      "X60-sec-pulse                  0\n",
      "Systolic                       0\n",
      "Diastolic                      0\n",
      "Weight                         0\n",
      "Height                         0\n",
      "Body-Mass-Index                0\n",
      "White-Blood-Cells              0\n",
      "Lymphocyte                     0\n",
      "Monocyte                       0\n",
      "Eosinophils                    0\n",
      "Basophils                      0\n",
      "Red-Blood-Cells                0\n",
      "Hemoglobin                     0\n",
      "Mean-Cell-Vol                  0\n",
      "Mean-Cell-Hgb-Conc.            0\n",
      "Mean-cell-Hemoglobin           0\n",
      "Platelet-count                 0\n",
      "Mean-Platelet-Vol              0\n",
      "Segmented-Neutrophils          0\n",
      "Hematocrit                     0\n",
      "Red-Cell-Distribution-Width    0\n",
      "Albumin                        0\n",
      "ALP                            0\n",
      "AST                            0\n",
      "ALT                            0\n",
      "Cholesterol                    0\n",
      "Creatinine                     0\n",
      "Glucose                        0\n",
      "GGT                            0\n",
      "Iron                           0\n",
      "LDH                            0\n",
      "Phosphorus                     0\n",
      "Bilirubin                      0\n",
      "Protein                        0\n",
      "Uric.Acid                      0\n",
      "Triglycerides                  0\n",
      "Total-Cholesterol              0\n",
      "HDL                            0\n",
      "Glycohemoglobin                0\n",
      "Vigorous-work                  0\n",
      "Moderate-work                  0\n",
      "Health-Insurance               0\n",
      "Diabetes                       0\n",
      "Blood-Rel-Diabetes             0\n",
      "Blood-Rel-Stroke               0\n",
      "CoronaryHeartDisease           0\n",
      "dtype: int64\n"
     ]
    }
   ],
   "source": [
    "null_counts = df.isnull().sum()\n",
    "print(null_counts)"
   ]
  },
  {
   "cell_type": "markdown",
   "metadata": {},
   "source": [
    "❌ Không có giá trị NULL trong bộ dữ liệu "
   ]
  },
  {
   "cell_type": "markdown",
   "metadata": {},
   "source": [
    "Kiểm tra trùng lặp"
   ]
  },
  {
   "cell_type": "code",
   "execution_count": 7,
   "metadata": {},
   "outputs": [
    {
     "name": "stdout",
     "output_type": "stream",
     "text": [
      "Number of duplicate rows: 0\n"
     ]
    }
   ],
   "source": [
    "duplicates = df.duplicated().sum()\n",
    "print(f\"Number of duplicate rows: {duplicates}\")\n"
   ]
  },
  {
   "cell_type": "markdown",
   "metadata": {},
   "source": [
    "❌ Không có giá trị trùng lặp trong bộ dữ liệu "
   ]
  },
  {
   "cell_type": "markdown",
   "metadata": {},
   "source": [
    "### CHỌN LỌC BIẾN BẰNG HỒI QUY LASSO VÀ BỎ PHIẾU ĐA SỐ"
   ]
  },
  {
   "cell_type": "markdown",
   "metadata": {},
   "source": [
    "### Hồi quy Lasso là gì?\n",
    "\n",
    "**Hồi quy Lasso (Lasso Regression)** là một kỹ thuật trong phân tích dữ liệu và học máy, được sử dụng để thực hiện **hồi quy tuyến tính** trong đó có một bước điều chỉnh đặc biệt để giúp giảm thiểu mô hình quá phức tạp hoặc bị **overfitting**.\n",
    "\n",
    "### Các Khái Niệm Cơ Bản:\n",
    "- **Hồi quy tuyến tính (Linear Regression):** Là một mô hình thống kê dùng để dự đoán giá trị của biến phụ thuộc (y) từ các biến độc lập (x).\n",
    "- **Overfitting:** Là hiện tượng khi mô hình học quá kỹ vào dữ liệu huấn luyện, dẫn đến việc không tổng quát được khi gặp dữ liệu mới.\n",
    "\n",
    "### Lasso Regression:\n",
    "- **Lasso** là viết tắt của **Least Absolute Shrinkage and Selection Operator**. Kỹ thuật này không chỉ thực hiện hồi quy tuyến tính mà còn có khả năng **chọn lọc đặc trưng** (feature selection).\n",
    "- Lasso thêm vào một điều kiện ràng buộc (penalty term) vào trong hàm mất mát (loss function) của hồi quy tuyến tính.\n",
    "\n",
    "$$\n",
    "\\text{Loss function} = \\text{RSS} + \\lambda \\sum_{i=1}^{p} |\\beta_i|\n",
    "$$\n",
    "\n",
    "Trong đó:\n",
    "- **RSS (Residual Sum of Squares):** Tổng bình phương sai số dự đoán.\n",
    "- **\\(\\beta_i\\):** Các hệ số hồi quy của các biến độc lập.\n",
    "- **\\(\\lambda\\):** Hệ số điều chỉnh (regularization parameter), điều chỉnh mức độ ảnh hưởng của phần ràng buộc. Khi \\(\\lambda\\) tăng, mức độ “co lại” của các hệ số hồi quy càng mạnh.\n",
    "\n",
    "## Đặc Điểm Của Lasso:\n",
    "1. **Feature Selection:** Lasso có thể đẩy một số hệ số hồi quy về 0, giúp loại bỏ các biến không có ảnh hưởng lớn. Điều này giúp chọn ra những đặc trưng quan trọng trong mô hình, giảm bớt độ phức tạp của mô hình.\n",
    "2. **Điều chỉnh độ phức tạp:** Thông qua hệ số \\(\\lambda\\), Lasso giúp điều chỉnh mô hình sao cho không bị overfitting, đồng thời vẫn duy trì khả năng dự đoán chính xác.\n",
    "3. **Sử dụng trong dữ liệu có nhiều đặc trưng (features):** Lasso rất hữu ích khi bạn có một lượng lớn đặc trưng và muốn giảm số lượng đặc trưng đầu vào, đồng thời duy trì độ chính xác của mô hình.\n",
    "\n",
    "### So Với Ridge Regression:\n",
    "- Cả **Lasso** và **Ridge Regression** đều là các phương pháp hồi quy có điều chỉnh (regularized regression), nhưng khác biệt chính giữa chúng là:\n",
    "  - **Lasso** sử dụng điều chỉnh L1 (làm giảm các hệ số về 0), trong khi **Ridge** sử dụng điều chỉnh L2 (làm giảm các hệ số về giá trị nhỏ, nhưng không phải bằng 0).\n",
    "  - Lasso có khả năng loại bỏ các đặc trưng không quan trọng, trong khi Ridge thường chỉ làm giảm chúng mà không loại bỏ hoàn toàn.\n",
    "\n",
    "### Ứng Dụng:\n",
    "- Lasso regression thường được sử dụng khi bạn muốn:\n",
    "  - Tìm ra các biến độc lập quan trọng nhất trong một mô hình.\n",
    "  - Giảm thiểu overfitting trong các mô hình có nhiều biến.\n",
    "  - Dự đoán trong các bài toán hồi quy với nhiều đặc trưng.\n",
    "\n",
    "Nhờ vào khả năng chọn lọc đặc trưng và giảm độ phức tạp mô hình, Lasso là một công cụ mạnh mẽ trong phân tích và học máy.\n"
   ]
  },
  {
   "cell_type": "markdown",
   "metadata": {},
   "source": [
    "### Tạo biến mục tiêu và loại bỏ các cột không cần thiết"
   ]
  },
  {
   "cell_type": "code",
   "execution_count": 8,
   "metadata": {},
   "outputs": [],
   "source": [
    "opLabel = np.array(df['CoronaryHeartDisease'])\n",
    "\n",
    "# Loại bỏ các cột không cần thiết\n",
    "df.drop(\n",
    "    ['SEQN', 'CoronaryHeartDisease', 'Annual-Family-Income', 'Height', \n",
    "     'Ratio-Family-Income-Poverty', 'X60-sec-pulse', 'Health-Insurance', \n",
    "     'Lymphocyte', 'Monocyte', 'Eosinophils', 'Total-Cholesterol', \n",
    "     'Mean-Cell-Vol', 'Mean-Cell-Hgb-Conc.', 'Hematocrit', 'Segmented-Neutrophils'], \n",
    "    axis=1, \n",
    "    inplace=True\n",
    ")"
   ]
  },
  {
   "cell_type": "code",
   "execution_count": 9,
   "metadata": {},
   "outputs": [
    {
     "name": "stdout",
     "output_type": "stream",
     "text": [
      "Số lượng biến sau khi tạo biến giả: 45\n"
     ]
    }
   ],
   "source": [
    "# Chuyển đổi các biến phân loại thành biến giả\n",
    "df = pd.get_dummies(df, columns=[\"Gender\", \"Diabetes\", \"Blood-Rel-Diabetes\", \n",
    "                                 \"Blood-Rel-Stroke\", \"Vigorous-work\", \"Moderate-work\"])\n",
    "\n",
    "# Kiểm tra số lượng biến sau chuyển đổi\n",
    "print(f\"Số lượng biến sau khi tạo biến giả: {df.shape[1]}\")\n",
    "\n",
    "# Lấy tên các cột biến đặc trưng và chuyển dataframe thành mảng numpy\n",
    "varb = np.array(df.columns)\n",
    "ipData = np.array(df)\n",
    "\n",
    "# Khởi tạo mảng đếm tần suất (bỏ phiếu) cho các biến đặc trưng\n",
    "featureVote = np.zeros(ipData.shape[1])"
   ]
  },
  {
   "cell_type": "code",
   "execution_count": 10,
   "metadata": {},
   "outputs": [],
   "source": [
    "iteR = 100  # Số lần lặp lại\n",
    "\n",
    "# Vòng lặp chọn lọc biến\n",
    "for num in range(iteR):\n",
    "    # Phân chia dữ liệu theo hai lớp\n",
    "    label0_indx = np.where(opLabel == 0)[0]\n",
    "    label1_indx = np.where(opLabel == 1)[0]\n",
    "    numTrainData0 = 1300\n",
    "    numTrainData1 = 1300\n",
    "\n",
    "    # Xáo trộn chỉ số\n",
    "    np.random.shuffle(label0_indx)\n",
    "    np.random.shuffle(label1_indx)\n",
    "\n",
    "    # Chia tập dữ liệu\n",
    "    label0_indx_train = label0_indx[:numTrainData0-1]\n",
    "    label1_indx_train = label1_indx[:numTrainData1-1]\n",
    "    trainIndx = np.append(label0_indx_train, label1_indx_train)\n",
    "    trainData = ipData[trainIndx]\n",
    "    trainLabel = opLabel[trainIndx]\n",
    "\n",
    "    # Chuẩn hóa dữ liệu\n",
    "    scaler = preprocessing.StandardScaler().fit(trainData)\n",
    "    trainData_scaled = scaler.transform(trainData)\n",
    "\n",
    "    # Hồi quy Lasso\n",
    "    regr = Lasso(random_state=0, alpha=0.006, tol=0.000001, max_iter=100000)\n",
    "    regr.fit(trainData_scaled, trainLabel)\n",
    "\n",
    "    # Ghi nhận các biến có trọng số khác 0\n",
    "    cof = np.abs(regr.coef_)\n",
    "    colIndx = np.where(cof != 0)[0]\n",
    "    for col in colIndx:\n",
    "        featureVote[col] += 1"
   ]
  },
  {
   "cell_type": "code",
   "execution_count": 11,
   "metadata": {},
   "outputs": [
    {
     "name": "stdout",
     "output_type": "stream",
     "text": [
      "[100.  33.  82.  39.  14.  91.  50.  67.   9.  19. 100.  49. 100.  47.\n",
      "  26.  24.   9. 100.  88.  14.  36.  33. 100.  24.  47.  25. 100.  99.\n",
      "  96.  95. 100.  59.  86.  73.   5.  87.  49. 100.  60.  14.  13.  89.\n",
      "   2.  99.  64.]\n",
      "<built-in function iter>\n"
     ]
    }
   ],
   "source": [
    "print(featureVote)\n",
    "print(iter)"
   ]
  },
  {
   "cell_type": "code",
   "execution_count": 12,
   "metadata": {},
   "outputs": [
    {
     "name": "stdout",
     "output_type": "stream",
     "text": [
      "Số lượng biến được chọn: 40\n",
      "Các biến đặc trưng được chọn:\n",
      "Age\n",
      "Systolic\n",
      "Diastolic\n",
      "Weight\n",
      "White-Blood-Cells\n",
      "Basophils\n",
      "Red-Blood-Cells\n",
      "Platelet-count\n",
      "Mean-Platelet-Vol\n",
      "Red-Cell-Distribution-Width\n",
      "Albumin\n",
      "ALP\n",
      "AST\n",
      "Cholesterol\n",
      "Creatinine\n",
      "GGT\n",
      "Iron\n",
      "LDH\n",
      "Phosphorus\n",
      "Bilirubin\n",
      "Protein\n",
      "Uric.Acid\n",
      "Triglycerides\n",
      "HDL\n",
      "Glycohemoglobin\n",
      "Gender_1\n",
      "Gender_2\n",
      "Diabetes_1\n",
      "Diabetes_2\n",
      "Diabetes_3\n",
      "Blood-Rel-Diabetes_1\n",
      "Blood-Rel-Diabetes_2\n",
      "Blood-Rel-Stroke_1\n",
      "Blood-Rel-Stroke_2\n",
      "Vigorous-work_1\n",
      "Vigorous-work_2\n",
      "Vigorous-work_3\n",
      "Moderate-work_1\n",
      "Moderate-work_2\n",
      "Moderate-work_3\n"
     ]
    }
   ],
   "source": [
    "# Đặt ngưỡng tần suất\n",
    "thresH = iteR // 5\n",
    "\n",
    "# Chọn các biến có tần suất >= ngưỡng\n",
    "featureIndx = np.where(featureVote[0:30] >= thresH)[0]\n",
    "\n",
    "# Giữ lại các biến từ vị trí 30 trở đi\n",
    "featureIndx = np.append(featureIndx, np.arange(30, ipData.shape[1]))\n",
    "\n",
    "# Kiểm tra số lượng biến được chọn\n",
    "print(f\"Số lượng biến được chọn: {len(featureIndx)}\")\n",
    "\n",
    "# Lấy tên các biến được chọn\n",
    "selected_features_via_threshold = varb[featureIndx]\n",
    "\n",
    "# In các biến được chọn\n",
    "print(\"Các biến đặc trưng được chọn:\")\n",
    "for feature in selected_features_via_threshold:\n",
    "    print(feature)"
   ]
  },
  {
   "cell_type": "code",
   "execution_count": 13,
   "metadata": {},
   "outputs": [
    {
     "name": "stdout",
     "output_type": "stream",
     "text": [
      "Số lượng biến bị loại bỏ: 5\n",
      "Các biến đặc trưng bị loại bỏ sau chọn lọc:\n",
      "Body-Mass-Index\n",
      "Hemoglobin\n",
      "Mean-cell-Hemoglobin\n",
      "ALT\n",
      "Glucose\n"
     ]
    }
   ],
   "source": [
    "# Tìm các chỉ số của tất cả các biến trong tập dữ liệu gốc\n",
    "tInx = np.arange(ipData.shape[1])\n",
    "\n",
    "# Tìm các chỉ số của các biến không nằm trong danh sách được chọn\n",
    "rrInx = tInx[~np.isin(tInx, featureIndx)]\n",
    "\n",
    "# Lấy tên các biến bị loại bỏ\n",
    "removed_features = varb[rrInx]\n",
    "print(f\"Số lượng biến bị loại bỏ: {len(removed_features)}\")\n",
    "\n",
    "# In danh sách các biến bị loại bỏ\n",
    "print(\"Các biến đặc trưng bị loại bỏ sau chọn lọc:\")\n",
    "for feature in removed_features:\n",
    "    print(feature)"
   ]
  },
  {
   "cell_type": "markdown",
   "metadata": {},
   "source": [
    "### GIẢM TẬP DỮ LIỆU VÀ CHIA TẬP DỮ LIỆU HUẤN LUYỆN & KIỂM TRA"
   ]
  },
  {
   "cell_type": "markdown",
   "metadata": {},
   "source": [
    "**MỤC ĐÍCH**\n",
    "- Giảm kích thước dữ liệu bằng cách chỉ giữ lại các biến đặc trưng đã chọn thông qua hồi quy Lasso\n",
    "- Chia dữ liệu thành tập huấn luyện (train) và kiểm tra (test) với số lượng mẫu được xác định riêng cho từng lớp (lớp 0 và lớp 1)\n",
    "- Chuẩn hóa dữ liệu để sẵn sàng sử dụng trong các mô hình học máy\n",
    "- Cho phép thay đổi kích thước tập huấn luyện bằng cách chỉnh sửa các biến numTrainData0 (số mẫu của lớp 0) và numTrainData1 (số mẫu của lớp 1)"
   ]
  },
  {
   "cell_type": "code",
   "execution_count": 14,
   "metadata": {},
   "outputs": [
    {
     "data": {
      "text/plain": [
       "((5469, 40), (5469,), (31610, 40), (31610,))"
      ]
     },
     "execution_count": 14,
     "metadata": {},
     "output_type": "execute_result"
    }
   ],
   "source": [
    "# Giảm tập dữ liệu với các biến đặc trưng đã chọn từ dataframe df\n",
    "reduced_data = df.iloc[:, featureIndx].values\n",
    "\n",
    "# Tìm chỉ số của hai lớp (0 và 1)\n",
    "label0_indx = np.where(opLabel == 0)[0]  # Lớp 0 (không bị bệnh)\n",
    "label1_indx = np.where(opLabel == 1)[0]  # Lớp 1 (bị bệnh)\n",
    "\n",
    "# Định nghĩa số lượng mẫu cho tập huấn luyện\n",
    "numTrainData0 = 4300  # Số mẫu lớp 0 trong tập huấn luyện\n",
    "numTrainData1 = 1169  # Số mẫu lớp 1 trong tập huấn luyện\n",
    "\n",
    "# Xáo trộn chỉ số\n",
    "np.random.shuffle(label0_indx)\n",
    "np.random.shuffle(label1_indx)\n",
    "\n",
    "# Chia tập huấn luyện và kiểm tra\n",
    "label0_indx_train = label0_indx[:numTrainData0]\n",
    "label1_indx_train = label1_indx[:numTrainData1]\n",
    "label0_indx_test = label0_indx[numTrainData0:]\n",
    "label1_indx_test = label1_indx[numTrainData1:]\n",
    "\n",
    "# Gộp chỉ số của hai lớp\n",
    "testIndx = np.append(label0_indx_test, label1_indx_test)\n",
    "trainIndx = np.append(label0_indx_train, label1_indx_train)\n",
    "\n",
    "# Tạo tập huấn luyện và kiểm tra\n",
    "x_train = reduced_data[trainIndx]\n",
    "y_train = opLabel[trainIndx]\n",
    "x_test = reduced_data[testIndx]\n",
    "y_test = opLabel[testIndx]\n",
    "\n",
    "# Chuẩn hóa dữ liệu\n",
    "scaler = preprocessing.StandardScaler().fit(x_train)\n",
    "x_train = scaler.transform(x_train)\n",
    "x_test = scaler.transform(x_test)\n",
    "\n",
    "# Sao lưu dữ liệu chuẩn hóa\n",
    "x_train_org = copy.deepcopy(x_train)\n",
    "x_test_org = copy.deepcopy(x_test)\n",
    "y_train_org = copy.deepcopy(y_train)\n",
    "y_test_org = copy.deepcopy(y_test)\n",
    "\n",
    "# Kết quả tập dữ liệu huấn luyện và kiểm tra\n",
    "x_train.shape, y_train.shape, x_test.shape, y_test.shape\n"
   ]
  },
  {
   "cell_type": "markdown",
   "metadata": {},
   "source": [
    "- Tập huấn luyện (x_train) gồm 5469 mẫu và mỗi mẫu có 40 biến đặc trưng sau khi giảm dữ liệu\n",
    "- Tập kiểm tra (x_test) gồm 31610 mẫu và mỗi mẫu cũng có 40 biến đặc trưng"
   ]
  },
  {
   "cell_type": "markdown",
   "metadata": {},
   "source": [
    "### TRỰC QUAN HÓA DỮ LIỆU"
   ]
  },
  {
   "cell_type": "markdown",
   "metadata": {},
   "source": [
    "### t-SNE Visualization"
   ]
  },
  {
   "cell_type": "code",
   "execution_count": 15,
   "metadata": {},
   "outputs": [],
   "source": [
    "import imblearn\n",
    "from collections import Counter\n",
    "from sklearn.manifold import TSNE\n",
    "import seaborn as sns"
   ]
  },
  {
   "cell_type": "code",
   "execution_count": 16,
   "metadata": {},
   "outputs": [
    {
     "name": "stderr",
     "output_type": "stream",
     "text": [
      "c:\\Users\\baoho\\AppData\\Local\\Programs\\Python\\Python311\\Lib\\site-packages\\sklearn\\manifold\\_t_sne.py:1162: FutureWarning: 'n_iter' was renamed to 'max_iter' in version 1.5 and will be removed in 1.7.\n",
      "  warnings.warn(\n"
     ]
    },
    {
     "name": "stdout",
     "output_type": "stream",
     "text": [
      "[t-SNE] Computing 91 nearest neighbors...\n",
      "[t-SNE] Indexed 5469 samples in 0.000s...\n",
      "[t-SNE] Computed neighbors for 5469 samples in 0.343s...\n",
      "[t-SNE] Computed conditional probabilities for sample 1000 / 5469\n",
      "[t-SNE] Computed conditional probabilities for sample 2000 / 5469\n",
      "[t-SNE] Computed conditional probabilities for sample 3000 / 5469\n",
      "[t-SNE] Computed conditional probabilities for sample 4000 / 5469\n",
      "[t-SNE] Computed conditional probabilities for sample 5000 / 5469\n",
      "[t-SNE] Computed conditional probabilities for sample 5469 / 5469\n",
      "[t-SNE] Mean sigma: 1.687809\n",
      "[t-SNE] KL divergence after 250 iterations with early exaggeration: 81.251205\n",
      "[t-SNE] KL divergence after 300 iterations: 2.295635\n"
     ]
    }
   ],
   "source": [
    "# Sử dụng t-SNE để giảm chiều dữ liệu xuống 3D\n",
    "X_embedded = TSNE(n_components=3, n_iter=300, verbose=1).fit_transform(x_train)\n",
    "# - `n_components=3`: Giảm chiều dữ liệu về 3 chiều để dễ trực quan hóa.\n",
    "# - `n_iter=300`: Số lần lặp của thuật toán để hội tụ.\n",
    "# - `verbose=1`: Hiển thị thông tin quá trình thực thi.\n",
    "# - `fit_transform(x_train)`: Áp dụng t-SNE lên tập dữ liệu huấn luyện `x_train`.\n",
    "# Kết quả: `X_embedded` là một mảng có kích thước (số mẫu, 3)."
   ]
  },
  {
   "cell_type": "code",
   "execution_count": 17,
   "metadata": {},
   "outputs": [
    {
     "name": "stderr",
     "output_type": "stream",
     "text": [
      "C:\\Users\\baoho\\AppData\\Local\\Temp\\ipykernel_1732\\837101096.py:23: UserWarning: *c* argument looks like a single numeric RGB or RGBA sequence, which should be avoided as value-mapping will have precedence in case its length matches with *x* & *y*.  Please use the *color* keyword-argument or provide a 2D array with a single row if you intend to specify the same RGB or RGBA value for all points.\n",
      "  ax.scatter(0, 0, 0, c=cin, edgecolors='k', label='CHD')\n"
     ]
    },
    {
     "data": {
      "image/png": "[encoded data removed]",
      "text/plain": [
       "<Figure size 750x750 with 1 Axes>"
      ]
     },
     "metadata": {},
     "output_type": "display_data"
    }
   ],
   "source": [
    "from mpl_toolkits.mplot3d import Axes3D\n",
    "\n",
    "# Lấy màu sắc để vẽ các lớp\n",
    "cin = sns.color_palette(\"Set1\")[1]  # Màu sắc cho lớp \"CHD\"\n",
    "edge_color = []  # Không sử dụng, nhưng khởi tạo danh sách trống.\n",
    "\n",
    "# Tạo một biểu đồ 3D\n",
    "fig = plt.figure()  # Tạo một hình (figure) mới.\n",
    "ax = fig.add_subplot(111, projection='3d')  # Tạo biểu đồ 3D (projection='3d').\n",
    "\n",
    "# Thiết lập nền của biểu đồ\n",
    "ax.set_facecolor('w')  # Đặt màu nền biểu đồ thành trắng.\n",
    "\n",
    "# Vẽ các điểm dữ liệu lên biểu đồ 3D\n",
    "ax.scatter(\n",
    "    X_embedded[:, 0], X_embedded[:, 1], X_embedded[:, 2], \n",
    "    c=[sns.color_palette(\"Set1\")[x] for x in y_train],  # Màu sắc theo lớp trong `y_train`.\n",
    "    edgecolors='k',  # Màu viền đen cho các điểm.\n",
    "    label='no-CHD'   # Nhãn cho lớp không bị bệnh (no-CHD).\n",
    ")\n",
    "\n",
    "# Thêm một điểm tại (0, 0, 0) để đại diện cho lớp \"CHD\"\n",
    "ax.scatter(0, 0, 0, c=cin, edgecolors='k', label='CHD')\n",
    "# - Điểm (0, 0, 0) không thực sự nằm trong dữ liệu, chỉ dùng để hiển thị màu đại diện.\n",
    "\n",
    "# Tùy chỉnh góc nhìn của biểu đồ\n",
    "ax.azim = 20  # Góc xoay theo trục Z (azimuthal angle).\n",
    "ax.elev = 20  # Góc nâng theo trục Y (elevation angle).\n",
    "\n",
    "# Đặt nhãn cho các trục\n",
    "ax.set_xlabel(\"t-SNE Dim 1\", size=\"x-large\")  # Nhãn trục X.\n",
    "ax.set_ylabel(\"t-SNE Dim 2\", size=\"x-large\")  # Nhãn trục Y.\n",
    "ax.set_zlabel(\"t-SNE Dim 3\", size=\"x-large\")  # Nhãn trục Z.\n",
    "\n",
    "# Đặt tiêu đề cho biểu đồ\n",
    "plt.title(\"Random subsampling 3:1\", size=\"xx-large\")\n",
    "# Tiêu đề \"Random subsampling 3:1\" đề cập đến tỷ lệ lấy mẫu giữa các lớp.\n",
    "\n",
    "# Hiển thị chú giải (legend) trên biểu đồ\n",
    "ax.legend(loc='upper left')\n",
    "\n",
    "# Đặt kích thước biểu đồ\n",
    "fig.set_size_inches(7.5, 7.5)  # Kích thước (rộng x cao) của biểu đồ (tính bằng inches).\n",
    "\n",
    "# Lưu biểu đồ dưới dạng file PNG\n",
    "fig.savefig('tSNE_RUS.png', dpi=100)\n",
    "# - File được lưu với tên 'tSNE_RUS.png'.\n",
    "# - `dpi=100` quy định độ phân giải của hình ảnh (dots per inch)."
   ]
  },
  {
   "cell_type": "markdown",
   "metadata": {},
   "source": [
    "| **Yếu tố**             | **Figure**          |\n",
    "|-------------------------|---------------------------|\n",
    "| **Phân bố dữ liệu**     | Có cụm rõ ràng         |\n",
    "| **Sự chồng chéo lớp**   | Chồng chéo nhưng có cụm   |\n",
    "| **Cụm nhỏ biệt lập**    | Xuất hiện ở rìa          |\n",
    "| **Tập trung cụm**       | Tập trung ở trung tâm    |\n"
   ]
  },
  {
   "cell_type": "markdown",
   "metadata": {},
   "source": [
    "**Phân bố dữ liệu**\n",
    "- Có sự hình thành một số cụm (**clusters**) trong dữ liệu.\n",
    "- **Cụm chính** tập trung ở trung tâm, với các điểm màu đỏ (**no-CHD**) chiếm ưu thế.\n",
    "- Một số cụm nhỏ xuất hiện ở rìa, có thể đại diện cho các **mẫu dữ liệu ngoại lệ (outliers)** hoặc các nhóm dữ liệu có tính chất khác biệt.\n",
    "\n",
    "**Sự chồng chéo giữa các lớp**\n",
    "- Lớp **CHD** (xanh) và **no-CHD** (đỏ) không hoàn toàn phân tách, mà có sự **chồng chéo đáng kể**.\n",
    "- Tuy nhiên, lớp **CHD** (xanh) dường như tập trung vào một số cụm nhỏ hơn, cho thấy khả năng tồn tại một số **thông tin có thể phân loại**.\n",
    "\n",
    "**Cấu trúc cụm**\n",
    "- Các **cụm lớn** ở trung tâm là nơi tập trung của cả hai lớp.\n",
    "- Các cụm nhỏ ở rìa có vẻ chỉ thuộc về một lớp cụ thể (chủ yếu là **CHD**).\n",
    "- Điều này có thể cho thấy rằng một số mẫu có **tính chất đặc thù**, dễ phân biệt hơn.\n",
    "\n",
    "**Khả năng phân loại**\n",
    "- **Sự chồng chéo** giữa các lớp trong các cụm lớn cho thấy việc phân loại giữa **CHD** và **no-CHD** có thể gặp thách thức với các thuật toán tuyến tính.\n",
    "- Tuy nhiên, các cụm nhỏ và khu vực không chồng chéo gợi ý rằng vẫn có khả năng tách biệt dữ liệu với các **thuật toán phi tuyến tính** hoặc các **kỹ thuật trích xuất đặc trưng bổ sung**.\n",
    "\n",
    "**Hiệu quả đặc trưng**\n",
    "- Các đặc trưng được chọn thông qua **LASSO** đã giúp hình thành cấu trúc dữ liệu tương đối rõ ràng.\n",
    "- Tuy nhiên, do sự chồng chéo giữa các lớp, các đặc trưng hiện tại chưa đủ mạnh để phân biệt hoàn toàn hai lớp.\n",
    "\n",
    "**Dữ liệu ngoại lệ**\n",
    "- Một số cụm nhỏ ở rìa có thể là **dữ liệu ngoại lệ** hoặc các nhóm dữ liệu có tính chất đặc biệt, cần được phân tích thêm để xem chúng có giá trị thông tin hay không."
   ]
  },
  {
   "cell_type": "markdown",
   "metadata": {},
   "source": [
    "### **Giải pháp**\n",
    "\n",
    "**1. Cải thiện đặc trưng**\n",
    "- Thử các phương pháp chọn lọc hoặc tạo thêm đặc trưng mới:\n",
    "  - **Polynomial Features**: Tạo các đặc trưng bậc cao để nắm bắt mối quan hệ phi tuyến giữa các biến.\n",
    "  - **Interaction Features**: Kết hợp các đặc trưng hiện tại để tạo các đặc trưng tương tác.\n",
    "  - **Feature Engineering**: Tìm kiếm các đặc trưng bổ sung từ dữ liệu gốc hoặc nguồn dữ liệu khác.\n",
    "\n",
    "**2. Xử lý mất cân bằng dữ liệu**\n",
    "- Tỷ lệ giữa **CHD** và **no-CHD** (3:1) có thể dẫn đến việc lớp **CHD** bị đánh giá thấp.\n",
    "- **Giải pháp**:\n",
    "  - **Oversampling**: Sử dụng SMOTE để tăng số lượng mẫu của lớp **CHD**.\n",
    "  - **Undersampling**: Giảm bớt số lượng mẫu của lớp **no-CHD** để cân bằng hơn.\n",
    "\n",
    "**3. Thử nghiệm các thuật toán phi tuyến tính**\n",
    "- **Random Forest**: Để nắm bắt mối quan hệ phi tuyến giữa các đặc trưng.\n",
    "- **Gradient Boosting** (XGBoost, LightGBM): Phù hợp với các dữ liệu phức tạp và mất cân bằng.\n",
    "- **Neural Networks**: Mạnh mẽ trong việc học các mối quan hệ phức tạp từ dữ liệu."
   ]
  },
  {
   "cell_type": "code",
   "execution_count": 18,
   "metadata": {},
   "outputs": [],
   "source": [
    "# Chuyển đổi dữ liệu `x_train` và `x_test` thành định dạng phù hợp cho mô hình (CNN)\n",
    "x_train = x_train.reshape(x_train.shape[0], x_train.shape[1], 1)\n",
    "x_test = x_test.reshape(x_test.shape[0], x_test.shape[1], 1)"
   ]
  },
  {
   "cell_type": "code",
   "execution_count": 19,
   "metadata": {},
   "outputs": [],
   "source": [
    "# One-hot encoding cho nhãn đầu ra\n",
    "y_train = keras.utils.to_categorical(y_train, 2)\n",
    "y_test = keras.utils.to_categorical(y_test, 2)\n",
    "# - Chuyển đổi nhãn (labels) thành dạng one-hot vector.\n",
    "# - Ví dụ: nhãn `0` trở thành `[1, 0]`, nhãn `1` trở thành `[0, 1]`.\n",
    "# - Tham số `2` là số lượng lớp (số nhãn khác nhau trong bài toán)."
   ]
  },
  {
   "cell_type": "markdown",
   "metadata": {},
   "source": [
    "### MLP"
   ]
  },
  {
   "cell_type": "markdown",
   "metadata": {},
   "source": [
    "### Đầu vào: Mô hình nhận dữ liệu đầu vào có kích thước (x_train.shape[1], 1), tương ứng với số đặc trưng và độ sâu (1 chiều).\n",
    "### Các lớp ẩn:\n",
    "- Gồm các tầng Dense (fully connected) với Batch Normalization, Activation ReLU, và Dropout để ngăn overfitting.\n",
    "- Đầu ra: Sử dụng hàm kích hoạt softmax với 2 lớp để phân loại hai nhãn (nhị phân).\n",
    "- Hàm mất mát: categorical_crossentropy dùng cho bài toán phân loại với nhãn one-hot encoded.\n",
    "- Tối ưu hóa: Adam Optimizer với learning rate 0.01."
   ]
  },
  {
   "cell_type": "code",
   "execution_count": 20,
   "metadata": {},
   "outputs": [
    {
     "data": {
      "text/html": [
       "<pre style=\"white-space:pre;overflow-x:auto;line-height:normal;font-family:Menlo,'DejaVu Sans Mono',consolas,'Courier New',monospace\"><span style=\"font-weight: bold\">Model: \"functional\"</span>\n",
       "</pre>\n"
      ],
      "text/plain": [
       "\u001b[1mModel: \"functional\"\u001b[0m\n"
      ]
     },
     "metadata": {},
     "output_type": "display_data"
    },
    {
     "data": {
      "text/html": [
       "<pre style=\"white-space:pre;overflow-x:auto;line-height:normal;font-family:Menlo,'DejaVu Sans Mono',consolas,'Courier New',monospace\">┏━━━━━━━━━━━━━━━━━━━━━━━━━━━━━━━━━┳━━━━━━━━━━━━━━━━━━━━━━━━┳━━━━━━━━━━━━━━━┓\n",
       "┃<span style=\"font-weight: bold\"> Layer (type)                    </span>┃<span style=\"font-weight: bold\"> Output Shape           </span>┃<span style=\"font-weight: bold\">       Param # </span>┃\n",
       "┡━━━━━━━━━━━━━━━━━━━━━━━━━━━━━━━━━╇━━━━━━━━━━━━━━━━━━━━━━━━╇━━━━━━━━━━━━━━━┩\n",
       "│ input_layer (<span style=\"color: #0087ff; text-decoration-color: #0087ff\">InputLayer</span>)        │ (<span style=\"color: #00d7ff; text-decoration-color: #00d7ff\">None</span>, <span style=\"color: #00af00; text-decoration-color: #00af00\">40</span>, <span style=\"color: #00af00; text-decoration-color: #00af00\">1</span>)          │             <span style=\"color: #00af00; text-decoration-color: #00af00\">0</span> │\n",
       "├─────────────────────────────────┼────────────────────────┼───────────────┤\n",
       "│ reshape (<span style=\"color: #0087ff; text-decoration-color: #0087ff\">Reshape</span>)               │ (<span style=\"color: #00d7ff; text-decoration-color: #00d7ff\">None</span>, <span style=\"color: #00af00; text-decoration-color: #00af00\">40</span>)             │             <span style=\"color: #00af00; text-decoration-color: #00af00\">0</span> │\n",
       "├─────────────────────────────────┼────────────────────────┼───────────────┤\n",
       "│ dense (<span style=\"color: #0087ff; text-decoration-color: #0087ff\">Dense</span>)                   │ (<span style=\"color: #00d7ff; text-decoration-color: #00d7ff\">None</span>, <span style=\"color: #00af00; text-decoration-color: #00af00\">512</span>)            │        <span style=\"color: #00af00; text-decoration-color: #00af00\">20,992</span> │\n",
       "├─────────────────────────────────┼────────────────────────┼───────────────┤\n",
       "│ batch_normalization             │ (<span style=\"color: #00d7ff; text-decoration-color: #00d7ff\">None</span>, <span style=\"color: #00af00; text-decoration-color: #00af00\">512</span>)            │         <span style=\"color: #00af00; text-decoration-color: #00af00\">2,048</span> │\n",
       "│ (<span style=\"color: #0087ff; text-decoration-color: #0087ff\">BatchNormalization</span>)            │                        │               │\n",
       "├─────────────────────────────────┼────────────────────────┼───────────────┤\n",
       "│ activation (<span style=\"color: #0087ff; text-decoration-color: #0087ff\">Activation</span>)         │ (<span style=\"color: #00d7ff; text-decoration-color: #00d7ff\">None</span>, <span style=\"color: #00af00; text-decoration-color: #00af00\">512</span>)            │             <span style=\"color: #00af00; text-decoration-color: #00af00\">0</span> │\n",
       "├─────────────────────────────────┼────────────────────────┼───────────────┤\n",
       "│ dropout (<span style=\"color: #0087ff; text-decoration-color: #0087ff\">Dropout</span>)               │ (<span style=\"color: #00d7ff; text-decoration-color: #00d7ff\">None</span>, <span style=\"color: #00af00; text-decoration-color: #00af00\">512</span>)            │             <span style=\"color: #00af00; text-decoration-color: #00af00\">0</span> │\n",
       "├─────────────────────────────────┼────────────────────────┼───────────────┤\n",
       "│ dense_1 (<span style=\"color: #0087ff; text-decoration-color: #0087ff\">Dense</span>)                 │ (<span style=\"color: #00d7ff; text-decoration-color: #00d7ff\">None</span>, <span style=\"color: #00af00; text-decoration-color: #00af00\">128</span>)            │        <span style=\"color: #00af00; text-decoration-color: #00af00\">65,664</span> │\n",
       "├─────────────────────────────────┼────────────────────────┼───────────────┤\n",
       "│ batch_normalization_1           │ (<span style=\"color: #00d7ff; text-decoration-color: #00d7ff\">None</span>, <span style=\"color: #00af00; text-decoration-color: #00af00\">128</span>)            │           <span style=\"color: #00af00; text-decoration-color: #00af00\">512</span> │\n",
       "│ (<span style=\"color: #0087ff; text-decoration-color: #0087ff\">BatchNormalization</span>)            │                        │               │\n",
       "├─────────────────────────────────┼────────────────────────┼───────────────┤\n",
       "│ activation_1 (<span style=\"color: #0087ff; text-decoration-color: #0087ff\">Activation</span>)       │ (<span style=\"color: #00d7ff; text-decoration-color: #00d7ff\">None</span>, <span style=\"color: #00af00; text-decoration-color: #00af00\">128</span>)            │             <span style=\"color: #00af00; text-decoration-color: #00af00\">0</span> │\n",
       "├─────────────────────────────────┼────────────────────────┼───────────────┤\n",
       "│ dropout_1 (<span style=\"color: #0087ff; text-decoration-color: #0087ff\">Dropout</span>)             │ (<span style=\"color: #00d7ff; text-decoration-color: #00d7ff\">None</span>, <span style=\"color: #00af00; text-decoration-color: #00af00\">128</span>)            │             <span style=\"color: #00af00; text-decoration-color: #00af00\">0</span> │\n",
       "├─────────────────────────────────┼────────────────────────┼───────────────┤\n",
       "│ dense_2 (<span style=\"color: #0087ff; text-decoration-color: #0087ff\">Dense</span>)                 │ (<span style=\"color: #00d7ff; text-decoration-color: #00d7ff\">None</span>, <span style=\"color: #00af00; text-decoration-color: #00af00\">2</span>)              │           <span style=\"color: #00af00; text-decoration-color: #00af00\">258</span> │\n",
       "├─────────────────────────────────┼────────────────────────┼───────────────┤\n",
       "│ activation_2 (<span style=\"color: #0087ff; text-decoration-color: #0087ff\">Activation</span>)       │ (<span style=\"color: #00d7ff; text-decoration-color: #00d7ff\">None</span>, <span style=\"color: #00af00; text-decoration-color: #00af00\">2</span>)              │             <span style=\"color: #00af00; text-decoration-color: #00af00\">0</span> │\n",
       "└─────────────────────────────────┴────────────────────────┴───────────────┘\n",
       "</pre>\n"
      ],
      "text/plain": [
       "┏━━━━━━━━━━━━━━━━━━━━━━━━━━━━━━━━━┳━━━━━━━━━━━━━━━━━━━━━━━━┳━━━━━━━━━━━━━━━┓\n",
       "┃\u001b[1m \u001b[0m\u001b[1mLayer (type)                   \u001b[0m\u001b[1m \u001b[0m┃\u001b[1m \u001b[0m\u001b[1mOutput Shape          \u001b[0m\u001b[1m \u001b[0m┃\u001b[1m \u001b[0m\u001b[1m      Param #\u001b[0m\u001b[1m \u001b[0m┃\n",
       "┡━━━━━━━━━━━━━━━━━━━━━━━━━━━━━━━━━╇━━━━━━━━━━━━━━━━━━━━━━━━╇━━━━━━━━━━━━━━━┩\n",
       "│ input_layer (\u001b[38;5;33mInputLayer\u001b[0m)        │ (\u001b[38;5;45mNone\u001b[0m, \u001b[38;5;34m40\u001b[0m, \u001b[38;5;34m1\u001b[0m)          │             \u001b[38;5;34m0\u001b[0m │\n",
       "├─────────────────────────────────┼────────────────────────┼───────────────┤\n",
       "│ reshape (\u001b[38;5;33mReshape\u001b[0m)               │ (\u001b[38;5;45mNone\u001b[0m, \u001b[38;5;34m40\u001b[0m)             │             \u001b[38;5;34m0\u001b[0m │\n",
       "├─────────────────────────────────┼────────────────────────┼───────────────┤\n",
       "│ dense (\u001b[38;5;33mDense\u001b[0m)                   │ (\u001b[38;5;45mNone\u001b[0m, \u001b[38;5;34m512\u001b[0m)            │        \u001b[38;5;34m20,992\u001b[0m │\n",
       "├─────────────────────────────────┼────────────────────────┼───────────────┤\n",
       "│ batch_normalization             │ (\u001b[38;5;45mNone\u001b[0m, \u001b[38;5;34m512\u001b[0m)            │         \u001b[38;5;34m2,048\u001b[0m │\n",
       "│ (\u001b[38;5;33mBatchNormalization\u001b[0m)            │                        │               │\n",
       "├─────────────────────────────────┼────────────────────────┼───────────────┤\n",
       "│ activation (\u001b[38;5;33mActivation\u001b[0m)         │ (\u001b[38;5;45mNone\u001b[0m, \u001b[38;5;34m512\u001b[0m)            │             \u001b[38;5;34m0\u001b[0m │\n",
       "├─────────────────────────────────┼────────────────────────┼───────────────┤\n",
       "│ dropout (\u001b[38;5;33mDropout\u001b[0m)               │ (\u001b[38;5;45mNone\u001b[0m, \u001b[38;5;34m512\u001b[0m)            │             \u001b[38;5;34m0\u001b[0m │\n",
       "├─────────────────────────────────┼────────────────────────┼───────────────┤\n",
       "│ dense_1 (\u001b[38;5;33mDense\u001b[0m)                 │ (\u001b[38;5;45mNone\u001b[0m, \u001b[38;5;34m128\u001b[0m)            │        \u001b[38;5;34m65,664\u001b[0m │\n",
       "├─────────────────────────────────┼────────────────────────┼───────────────┤\n",
       "│ batch_normalization_1           │ (\u001b[38;5;45mNone\u001b[0m, \u001b[38;5;34m128\u001b[0m)            │           \u001b[38;5;34m512\u001b[0m │\n",
       "│ (\u001b[38;5;33mBatchNormalization\u001b[0m)            │                        │               │\n",
       "├─────────────────────────────────┼────────────────────────┼───────────────┤\n",
       "│ activation_1 (\u001b[38;5;33mActivation\u001b[0m)       │ (\u001b[38;5;45mNone\u001b[0m, \u001b[38;5;34m128\u001b[0m)            │             \u001b[38;5;34m0\u001b[0m │\n",
       "├─────────────────────────────────┼────────────────────────┼───────────────┤\n",
       "│ dropout_1 (\u001b[38;5;33mDropout\u001b[0m)             │ (\u001b[38;5;45mNone\u001b[0m, \u001b[38;5;34m128\u001b[0m)            │             \u001b[38;5;34m0\u001b[0m │\n",
       "├─────────────────────────────────┼────────────────────────┼───────────────┤\n",
       "│ dense_2 (\u001b[38;5;33mDense\u001b[0m)                 │ (\u001b[38;5;45mNone\u001b[0m, \u001b[38;5;34m2\u001b[0m)              │           \u001b[38;5;34m258\u001b[0m │\n",
       "├─────────────────────────────────┼────────────────────────┼───────────────┤\n",
       "│ activation_2 (\u001b[38;5;33mActivation\u001b[0m)       │ (\u001b[38;5;45mNone\u001b[0m, \u001b[38;5;34m2\u001b[0m)              │             \u001b[38;5;34m0\u001b[0m │\n",
       "└─────────────────────────────────┴────────────────────────┴───────────────┘\n"
      ]
     },
     "metadata": {},
     "output_type": "display_data"
    },
    {
     "data": {
      "text/html": [
       "<pre style=\"white-space:pre;overflow-x:auto;line-height:normal;font-family:Menlo,'DejaVu Sans Mono',consolas,'Courier New',monospace\"><span style=\"font-weight: bold\"> Total params: </span><span style=\"color: #00af00; text-decoration-color: #00af00\">89,474</span> (349.51 KB)\n",
       "</pre>\n"
      ],
      "text/plain": [
       "\u001b[1m Total params: \u001b[0m\u001b[38;5;34m89,474\u001b[0m (349.51 KB)\n"
      ]
     },
     "metadata": {},
     "output_type": "display_data"
    },
    {
     "data": {
      "text/html": [
       "<pre style=\"white-space:pre;overflow-x:auto;line-height:normal;font-family:Menlo,'DejaVu Sans Mono',consolas,'Courier New',monospace\"><span style=\"font-weight: bold\"> Trainable params: </span><span style=\"color: #00af00; text-decoration-color: #00af00\">88,194</span> (344.51 KB)\n",
       "</pre>\n"
      ],
      "text/plain": [
       "\u001b[1m Trainable params: \u001b[0m\u001b[38;5;34m88,194\u001b[0m (344.51 KB)\n"
      ]
     },
     "metadata": {},
     "output_type": "display_data"
    },
    {
     "data": {
      "text/html": [
       "<pre style=\"white-space:pre;overflow-x:auto;line-height:normal;font-family:Menlo,'DejaVu Sans Mono',consolas,'Courier New',monospace\"><span style=\"font-weight: bold\"> Non-trainable params: </span><span style=\"color: #00af00; text-decoration-color: #00af00\">1,280</span> (5.00 KB)\n",
       "</pre>\n"
      ],
      "text/plain": [
       "\u001b[1m Non-trainable params: \u001b[0m\u001b[38;5;34m1,280\u001b[0m (5.00 KB)\n"
      ]
     },
     "metadata": {},
     "output_type": "display_data"
    }
   ],
   "source": [
    "# Định nghĩa đầu vào với kích thước (x_train.shape[1], 1)\n",
    "inputs = keras.layers.Input(shape=(x_train.shape[1], 1))\n",
    "\n",
    "# Chuyển đổi kích thước từ (x_train.shape[1], 1) sang (x_train.shape[1], )\n",
    "RS0 = keras.layers.Reshape((x_train.shape[1], ))(inputs)\n",
    "\n",
    "# Lớp Fully Connected (Dense) đầu tiên với 512 neuron, khởi tạo trọng số bằng VarianceScaling\n",
    "FC0 = keras.layers.Dense(512, bias_initializer=keras.initializers.VarianceScaling())(RS0)\n",
    "\n",
    "# Chuẩn hóa Batch Normalization để ổn định và tăng tốc độ huấn luyện\n",
    "BN0 = keras.layers.BatchNormalization(axis=-1)(FC0)\n",
    "\n",
    "# Hàm kích hoạt ReLU để học các đặc trưng phi tuyến tính\n",
    "AC0 = keras.layers.Activation('relu')(BN0)\n",
    "\n",
    "# Dropout 20% các neuron để giảm overfitting\n",
    "DP0 = keras.layers.Dropout(0.2)(AC0)\n",
    "\n",
    "# Lớp Fully Connected thứ hai với 128 neuron\n",
    "FC1 = keras.layers.Dense(128, bias_initializer=keras.initializers.VarianceScaling())(DP0)\n",
    "\n",
    "# Chuẩn hóa Batch Normalization\n",
    "BN1 = keras.layers.BatchNormalization(axis=-1)(FC1)\n",
    "\n",
    "# Hàm kích hoạt ReLU\n",
    "AC1 = keras.layers.Activation('relu')(BN1)\n",
    "\n",
    "# Dropout 20% để giảm overfitting\n",
    "DP1 = keras.layers.Dropout(0.2)(AC1)\n",
    "\n",
    "# Lớp Fully Connected cuối cùng với 2 neuron, tương ứng với số lớp cần phân loại\n",
    "FC2 = keras.layers.Dense(2, bias_initializer=keras.initializers.VarianceScaling())(DP1)\n",
    "\n",
    "# Hàm kích hoạt Softmax để chuyển đầu ra thành xác suất của các lớp\n",
    "outputs = keras.layers.Activation('softmax')(FC2)\n",
    "\n",
    "# Định nghĩa mô hình từ đầu vào và đầu ra\n",
    "myMLP = keras.Model(inputs=inputs, outputs=outputs)\n",
    "\n",
    "# Biên dịch mô hình:\n",
    "# - optimizer: Adam với learning rate 0.01\n",
    "# - loss: categorical_crossentropy (dùng cho bài toán phân loại với nhãn one-hot encoded)\n",
    "# - metrics: accuracy (độ chính xác)\n",
    "myMLP.compile(optimizer=keras.optimizers.Adam(learning_rate=0.01),\n",
    "              loss='categorical_crossentropy',\n",
    "              metrics=['accuracy'])\n",
    "\n",
    "# Hiển thị tóm tắt mô hình, bao gồm số lượng lớp, số lượng tham số và kiến trúc chi tiết\n",
    "myMLP.summary()\n"
   ]
  },
  {
   "cell_type": "markdown",
   "metadata": {},
   "source": [
    "\n",
    "#### **1. Thông tin chính**\n",
    "\n",
    "| **Cột**                | **Ý nghĩa**                                                                                         |\n",
    "|-------------------------|-----------------------------------------------------------------------------------------------------|\n",
    "| **Layer (type)**        | Tên và loại lớp (Input, Reshape, Dense, BatchNormalization, Activation, Dropout, etc.).             |\n",
    "| **Output Shape**        | Kích thước đầu ra của lớp (bao gồm số lượng mẫu `None` và số chiều của đầu ra).                     |\n",
    "| **Param #**             | Số lượng tham số trong lớp.                                                                        |\n",
    "\n",
    "---\n",
    "\n",
    "#### **2. Chi tiết các lớp**\n",
    "\n",
    "| **Layer**                | **Output Shape**   | **Param #**    | **Giải thích**                                                                                  |\n",
    "|---------------------------|--------------------|-----------------|--------------------------------------------------------------------------------------------------|\n",
    "| `InputLayer`             | `(None, 40, 1)`   | `0`             | Đầu vào có 40 đặc trưng, chiều sâu là 1.                                                        |\n",
    "| `Reshape`                | `(None, 40)`      | `0`             | Chuyển kích thước từ `(40, 1)` sang `(40)`.                                                     |\n",
    "| `Dense` (512 neurons)    | `(None, 512)`     | `20,992`        | `(40 đầu vào + 1 bias) * 512`.                                                                  |\n",
    "| `BatchNormalization`     | `(None, 512)`     | `2,048`         | `2 * 512` tham số (gamma và beta).                                                              |\n",
    "| `Activation (ReLU)`      | `(None, 512)`     | `0`             | Áp dụng hàm kích hoạt ReLU.                                                                     |\n",
    "| `Dropout (20%)`          | `(None, 512)`     | `0`             | Tắt ngẫu nhiên 20% các neuron để giảm overfitting.                                              |\n",
    "| `Dense` (128 neurons)    | `(None, 128)`     | `65,664`        | `(512 đầu vào + 1 bias) * 128`.                                                                 |\n",
    "| `BatchNormalization`     | `(None, 128)`     | `512`           | `2 * 128` tham số (gamma và beta).                                                              |\n",
    "| `Activation (ReLU)`      | `(None, 128)`     | `0`             | Áp dụng hàm kích hoạt ReLU.                                                                     |\n",
    "| `Dropout (20%)`          | `(None, 128)`     | `0`             | Tắt ngẫu nhiên 20% các neuron.                                                                  |\n",
    "| `Dense` (2 neurons)      | `(None, 2)`       | `258`           | `(128 đầu vào + 1 bias) * 2`.                                                                   |\n",
    "| `Activation (Softmax)`   | `(None, 2)`       | `0`             | Tính xác suất cho 2 lớp đầu ra.                                                                 |\n",
    "\n",
    "---\n",
    "\n",
    "#### **3. Tổng số tham số**\n",
    "\n",
    "- **Total params (Tổng tham số)**: `89,474`  \n",
    "  Tổng số tham số trong tất cả các lớp.\n",
    "  \n",
    "- **Trainable params (Tham số có thể huấn luyện)**: `88,194`  \n",
    "  Các tham số sẽ được tối ưu hóa trong quá trình huấn luyện.\n",
    "\n",
    "- **Non-trainable params (Tham số không thể huấn luyện)**: `1,280`  \n",
    "  Các tham số cố định, thường từ Batch Normalization (thống kê trung bình và phương sai).\n",
    "\n",
    "---\n",
    "\n",
    "#### **4. Kết luận**\n",
    "- Mô hình bao gồm các lớp Dense lớn, tổng cộng `89,474` tham số, trong đó phần lớn có thể huấn luyện.\n",
    "- Các lớp như `Dropout` và `Activation` không thêm tham số mà hỗ trợ cải thiện hiệu quả huấn luyện.\n",
    "- Đây là một mạng MLP mạnh mẽ, được thiết kế để học phi tuyến từ dữ liệu với 40 đặc trưng.\n"
   ]
  },
  {
   "cell_type": "code",
   "execution_count": 21,
   "metadata": {},
   "outputs": [
    {
     "name": "stdout",
     "output_type": "stream",
     "text": [
      "Epoch 1/50\n",
      "\u001b[1m11/11\u001b[0m \u001b[32m━━━━━━━━━━━━━━━━━━━━\u001b[0m\u001b[37m\u001b[0m \u001b[1m2s\u001b[0m 7ms/step - accuracy: 0.5586 - loss: 2.0358 \n",
      "Epoch 2/50\n",
      "\u001b[1m11/11\u001b[0m \u001b[32m━━━━━━━━━━━━━━━━━━━━\u001b[0m\u001b[37m\u001b[0m \u001b[1m0s\u001b[0m 4ms/step - accuracy: 0.6788 - loss: 1.1665 \n",
      "Epoch 3/50\n",
      "\u001b[1m11/11\u001b[0m \u001b[32m━━━━━━━━━━━━━━━━━━━━\u001b[0m\u001b[37m\u001b[0m \u001b[1m0s\u001b[0m 4ms/step - accuracy: 0.6757 - loss: 1.0749 \n",
      "Epoch 4/50\n",
      "\u001b[1m11/11\u001b[0m \u001b[32m━━━━━━━━━━━━━━━━━━━━\u001b[0m\u001b[37m\u001b[0m \u001b[1m0s\u001b[0m 4ms/step - accuracy: 0.6913 - loss: 1.0456 \n",
      "Epoch 5/50\n",
      "\u001b[1m11/11\u001b[0m \u001b[32m━━━━━━━━━━━━━━━━━━━━\u001b[0m\u001b[37m\u001b[0m \u001b[1m0s\u001b[0m 3ms/step - accuracy: 0.7144 - loss: 0.9454 \n",
      "Epoch 6/50\n",
      "\u001b[1m11/11\u001b[0m \u001b[32m━━━━━━━━━━━━━━━━━━━━\u001b[0m\u001b[37m\u001b[0m \u001b[1m0s\u001b[0m 3ms/step - accuracy: 0.7036 - loss: 0.9521 \n",
      "Epoch 7/50\n",
      "\u001b[1m11/11\u001b[0m \u001b[32m━━━━━━━━━━━━━━━━━━━━\u001b[0m\u001b[37m\u001b[0m \u001b[1m0s\u001b[0m 3ms/step - accuracy: 0.7140 - loss: 0.9179 \n",
      "Epoch 8/50\n",
      "\u001b[1m11/11\u001b[0m \u001b[32m━━━━━━━━━━━━━━━━━━━━\u001b[0m\u001b[37m\u001b[0m \u001b[1m0s\u001b[0m 3ms/step - accuracy: 0.7369 - loss: 0.8812 \n",
      "Epoch 9/50\n",
      "\u001b[1m11/11\u001b[0m \u001b[32m━━━━━━━━━━━━━━━━━━━━\u001b[0m\u001b[37m\u001b[0m \u001b[1m0s\u001b[0m 3ms/step - accuracy: 0.7295 - loss: 0.8477 \n",
      "Epoch 10/50\n",
      "\u001b[1m11/11\u001b[0m \u001b[32m━━━━━━━━━━━━━━━━━━━━\u001b[0m\u001b[37m\u001b[0m \u001b[1m0s\u001b[0m 4ms/step - accuracy: 0.7357 - loss: 0.8749 \n",
      "Epoch 11/50\n",
      "\u001b[1m11/11\u001b[0m \u001b[32m━━━━━━━━━━━━━━━━━━━━\u001b[0m\u001b[37m\u001b[0m \u001b[1m0s\u001b[0m 3ms/step - accuracy: 0.7548 - loss: 0.8242 \n",
      "Epoch 12/50\n",
      "\u001b[1m11/11\u001b[0m \u001b[32m━━━━━━━━━━━━━━━━━━━━\u001b[0m\u001b[37m\u001b[0m \u001b[1m0s\u001b[0m 3ms/step - accuracy: 0.7448 - loss: 0.7993 \n",
      "Epoch 13/50\n",
      "\u001b[1m11/11\u001b[0m \u001b[32m━━━━━━━━━━━━━━━━━━━━\u001b[0m\u001b[37m\u001b[0m \u001b[1m0s\u001b[0m 3ms/step - accuracy: 0.7720 - loss: 0.7467 \n",
      "Epoch 14/50\n",
      "\u001b[1m11/11\u001b[0m \u001b[32m━━━━━━━━━━━━━━━━━━━━\u001b[0m\u001b[37m\u001b[0m \u001b[1m0s\u001b[0m 3ms/step - accuracy: 0.7688 - loss: 0.7550 \n",
      "Epoch 15/50\n",
      "\u001b[1m11/11\u001b[0m \u001b[32m━━━━━━━━━━━━━━━━━━━━\u001b[0m\u001b[37m\u001b[0m \u001b[1m0s\u001b[0m 3ms/step - accuracy: 0.7785 - loss: 0.7105 \n",
      "Epoch 16/50\n",
      "\u001b[1m11/11\u001b[0m \u001b[32m━━━━━━━━━━━━━━━━━━━━\u001b[0m\u001b[37m\u001b[0m \u001b[1m0s\u001b[0m 3ms/step - accuracy: 0.7749 - loss: 0.7179 \n",
      "Epoch 17/50\n",
      "\u001b[1m11/11\u001b[0m \u001b[32m━━━━━━━━━━━━━━━━━━━━\u001b[0m\u001b[37m\u001b[0m \u001b[1m0s\u001b[0m 3ms/step - accuracy: 0.7717 - loss: 0.7613 \n",
      "Epoch 18/50\n",
      "\u001b[1m11/11\u001b[0m \u001b[32m━━━━━━━━━━━━━━━━━━━━\u001b[0m\u001b[37m\u001b[0m \u001b[1m0s\u001b[0m 3ms/step - accuracy: 0.7758 - loss: 0.7017 \n",
      "Epoch 19/50\n",
      "\u001b[1m11/11\u001b[0m \u001b[32m━━━━━━━━━━━━━━━━━━━━\u001b[0m\u001b[37m\u001b[0m \u001b[1m0s\u001b[0m 4ms/step - accuracy: 0.7961 - loss: 0.6802 \n",
      "Epoch 20/50\n",
      "\u001b[1m11/11\u001b[0m \u001b[32m━━━━━━━━━━━━━━━━━━━━\u001b[0m\u001b[37m\u001b[0m \u001b[1m0s\u001b[0m 4ms/step - accuracy: 0.7941 - loss: 0.6549 \n",
      "Epoch 21/50\n",
      "\u001b[1m11/11\u001b[0m \u001b[32m━━━━━━━━━━━━━━━━━━━━\u001b[0m\u001b[37m\u001b[0m \u001b[1m0s\u001b[0m 3ms/step - accuracy: 0.8210 - loss: 0.6210 \n",
      "Epoch 22/50\n",
      "\u001b[1m11/11\u001b[0m \u001b[32m━━━━━━━━━━━━━━━━━━━━\u001b[0m\u001b[37m\u001b[0m \u001b[1m0s\u001b[0m 3ms/step - accuracy: 0.7840 - loss: 0.6341 \n",
      "Epoch 23/50\n",
      "\u001b[1m11/11\u001b[0m \u001b[32m━━━━━━━━━━━━━━━━━━━━\u001b[0m\u001b[37m\u001b[0m \u001b[1m0s\u001b[0m 3ms/step - accuracy: 0.8225 - loss: 0.5866 \n",
      "Epoch 24/50\n",
      "\u001b[1m11/11\u001b[0m \u001b[32m━━━━━━━━━━━━━━━━━━━━\u001b[0m\u001b[37m\u001b[0m \u001b[1m0s\u001b[0m 3ms/step - accuracy: 0.8146 - loss: 0.6014 \n",
      "Epoch 25/50\n",
      "\u001b[1m11/11\u001b[0m \u001b[32m━━━━━━━━━━━━━━━━━━━━\u001b[0m\u001b[37m\u001b[0m \u001b[1m0s\u001b[0m 3ms/step - accuracy: 0.8392 - loss: 0.5309 \n",
      "Epoch 26/50\n",
      "\u001b[1m11/11\u001b[0m \u001b[32m━━━━━━━━━━━━━━━━━━━━\u001b[0m\u001b[37m\u001b[0m \u001b[1m0s\u001b[0m 3ms/step - accuracy: 0.8194 - loss: 0.5461 \n",
      "Epoch 27/50\n",
      "\u001b[1m11/11\u001b[0m \u001b[32m━━━━━━━━━━━━━━━━━━━━\u001b[0m\u001b[37m\u001b[0m \u001b[1m0s\u001b[0m 3ms/step - accuracy: 0.8354 - loss: 0.5639 \n",
      "Epoch 28/50\n",
      "\u001b[1m11/11\u001b[0m \u001b[32m━━━━━━━━━━━━━━━━━━━━\u001b[0m\u001b[37m\u001b[0m \u001b[1m0s\u001b[0m 3ms/step - accuracy: 0.8490 - loss: 0.5152 \n",
      "Epoch 29/50\n",
      "\u001b[1m11/11\u001b[0m \u001b[32m━━━━━━━━━━━━━━━━━━━━\u001b[0m\u001b[37m\u001b[0m \u001b[1m0s\u001b[0m 3ms/step - accuracy: 0.8386 - loss: 0.5266 \n",
      "Epoch 30/50\n",
      "\u001b[1m11/11\u001b[0m \u001b[32m━━━━━━━━━━━━━━━━━━━━\u001b[0m\u001b[37m\u001b[0m \u001b[1m0s\u001b[0m 3ms/step - accuracy: 0.8410 - loss: 0.5296 \n",
      "Epoch 31/50\n",
      "\u001b[1m11/11\u001b[0m \u001b[32m━━━━━━━━━━━━━━━━━━━━\u001b[0m\u001b[37m\u001b[0m \u001b[1m0s\u001b[0m 3ms/step - accuracy: 0.8550 - loss: 0.4854 \n",
      "Epoch 32/50\n",
      "\u001b[1m11/11\u001b[0m \u001b[32m━━━━━━━━━━━━━━━━━━━━\u001b[0m\u001b[37m\u001b[0m \u001b[1m0s\u001b[0m 3ms/step - accuracy: 0.8690 - loss: 0.4826 \n",
      "Epoch 33/50\n",
      "\u001b[1m11/11\u001b[0m \u001b[32m━━━━━━━━━━━━━━━━━━━━\u001b[0m\u001b[37m\u001b[0m \u001b[1m0s\u001b[0m 3ms/step - accuracy: 0.8662 - loss: 0.4703 \n",
      "Epoch 34/50\n",
      "\u001b[1m11/11\u001b[0m \u001b[32m━━━━━━━━━━━━━━━━━━━━\u001b[0m\u001b[37m\u001b[0m \u001b[1m0s\u001b[0m 3ms/step - accuracy: 0.8697 - loss: 0.4532 \n",
      "Epoch 35/50\n",
      "\u001b[1m11/11\u001b[0m \u001b[32m━━━━━━━━━━━━━━━━━━━━\u001b[0m\u001b[37m\u001b[0m \u001b[1m0s\u001b[0m 3ms/step - accuracy: 0.8734 - loss: 0.4457 \n",
      "Epoch 36/50\n",
      "\u001b[1m11/11\u001b[0m \u001b[32m━━━━━━━━━━━━━━━━━━━━\u001b[0m\u001b[37m\u001b[0m \u001b[1m0s\u001b[0m 3ms/step - accuracy: 0.8729 - loss: 0.4274 \n",
      "Epoch 37/50\n",
      "\u001b[1m11/11\u001b[0m \u001b[32m━━━━━━━━━━━━━━━━━━━━\u001b[0m\u001b[37m\u001b[0m \u001b[1m0s\u001b[0m 3ms/step - accuracy: 0.8792 - loss: 0.4447 \n",
      "Epoch 38/50\n",
      "\u001b[1m11/11\u001b[0m \u001b[32m━━━━━━━━━━━━━━━━━━━━\u001b[0m\u001b[37m\u001b[0m \u001b[1m0s\u001b[0m 3ms/step - accuracy: 0.8850 - loss: 0.3908 \n",
      "Epoch 39/50\n",
      "\u001b[1m11/11\u001b[0m \u001b[32m━━━━━━━━━━━━━━━━━━━━\u001b[0m\u001b[37m\u001b[0m \u001b[1m0s\u001b[0m 3ms/step - accuracy: 0.8739 - loss: 0.4172 \n",
      "Epoch 40/50\n",
      "\u001b[1m11/11\u001b[0m \u001b[32m━━━━━━━━━━━━━━━━━━━━\u001b[0m\u001b[37m\u001b[0m \u001b[1m0s\u001b[0m 3ms/step - accuracy: 0.8776 - loss: 0.3801 \n",
      "Epoch 41/50\n",
      "\u001b[1m11/11\u001b[0m \u001b[32m━━━━━━━━━━━━━━━━━━━━\u001b[0m\u001b[37m\u001b[0m \u001b[1m0s\u001b[0m 3ms/step - accuracy: 0.8836 - loss: 0.3856 \n",
      "Epoch 42/50\n",
      "\u001b[1m11/11\u001b[0m \u001b[32m━━━━━━━━━━━━━━━━━━━━\u001b[0m\u001b[37m\u001b[0m \u001b[1m0s\u001b[0m 3ms/step - accuracy: 0.8967 - loss: 0.4385 \n",
      "Epoch 43/50\n",
      "\u001b[1m11/11\u001b[0m \u001b[32m━━━━━━━━━━━━━━━━━━━━\u001b[0m\u001b[37m\u001b[0m \u001b[1m0s\u001b[0m 3ms/step - accuracy: 0.8975 - loss: 0.3814 \n",
      "Epoch 44/50\n",
      "\u001b[1m11/11\u001b[0m \u001b[32m━━━━━━━━━━━━━━━━━━━━\u001b[0m\u001b[37m\u001b[0m \u001b[1m0s\u001b[0m 3ms/step - accuracy: 0.8888 - loss: 0.3928 \n",
      "Epoch 45/50\n",
      "\u001b[1m11/11\u001b[0m \u001b[32m━━━━━━━━━━━━━━━━━━━━\u001b[0m\u001b[37m\u001b[0m \u001b[1m0s\u001b[0m 3ms/step - accuracy: 0.8840 - loss: 0.3674 \n",
      "Epoch 46/50\n",
      "\u001b[1m11/11\u001b[0m \u001b[32m━━━━━━━━━━━━━━━━━━━━\u001b[0m\u001b[37m\u001b[0m \u001b[1m0s\u001b[0m 3ms/step - accuracy: 0.8832 - loss: 0.3677 \n",
      "Epoch 47/50\n",
      "\u001b[1m11/11\u001b[0m \u001b[32m━━━━━━━━━━━━━━━━━━━━\u001b[0m\u001b[37m\u001b[0m \u001b[1m0s\u001b[0m 3ms/step - accuracy: 0.9061 - loss: 0.3009 \n",
      "Epoch 48/50\n",
      "\u001b[1m11/11\u001b[0m \u001b[32m━━━━━━━━━━━━━━━━━━━━\u001b[0m\u001b[37m\u001b[0m \u001b[1m0s\u001b[0m 3ms/step - accuracy: 0.9132 - loss: 0.3124 \n",
      "Epoch 49/50\n",
      "\u001b[1m11/11\u001b[0m \u001b[32m━━━━━━━━━━━━━━━━━━━━\u001b[0m\u001b[37m\u001b[0m \u001b[1m0s\u001b[0m 3ms/step - accuracy: 0.9196 - loss: 0.3042 \n",
      "Epoch 50/50\n",
      "\u001b[1m11/11\u001b[0m \u001b[32m━━━━━━━━━━━━━━━━━━━━\u001b[0m\u001b[37m\u001b[0m \u001b[1m0s\u001b[0m 3ms/step - accuracy: 0.9155 - loss: 0.2757 \n"
     ]
    },
    {
     "data": {
      "text/plain": [
       "<keras.src.callbacks.history.History at 0x1b54aba9d50>"
      ]
     },
     "execution_count": 21,
     "metadata": {},
     "output_type": "execute_result"
    }
   ],
   "source": [
    "class_weight = {0: 1, 1: 10}\n",
    "\n",
    "myMLP.fit(x_train,y_train,epochs=50,batch_size=500,verbose=1, class_weight=class_weight)"
   ]
  },
  {
   "cell_type": "code",
   "execution_count": 22,
   "metadata": {},
   "outputs": [
    {
     "name": "stdout",
     "output_type": "stream",
     "text": [
      "\u001b[1m988/988\u001b[0m \u001b[32m━━━━━━━━━━━━━━━━━━━━\u001b[0m\u001b[37m\u001b[0m \u001b[1m1s\u001b[0m 706us/step - accuracy: 0.8392 - loss: 0.5149\n",
      "0.8359696269035339\n"
     ]
    }
   ],
   "source": [
    "test_loss,test_acc = myMLP.evaluate(x_test,y_test)\n",
    "print(test_acc)"
   ]
  },
  {
   "cell_type": "code",
   "execution_count": 23,
   "metadata": {},
   "outputs": [
    {
     "name": "stdout",
     "output_type": "stream",
     "text": [
      "\u001b[1m988/988\u001b[0m \u001b[32m━━━━━━━━━━━━━━━━━━━━\u001b[0m\u001b[37m\u001b[0m \u001b[1m1s\u001b[0m 814us/step\n",
      "[[26214  5057]\n",
      " [  128   211]]\n"
     ]
    }
   ],
   "source": [
    "from sklearn import metrics\n",
    "predlabel = myMLP.predict(x_test)\n",
    "f = np.argmax(predlabel,axis=1)\n",
    "confMat = metrics.confusion_matrix(np.argmax(y_test,axis=1),f)\n",
    "print(confMat)"
   ]
  },
  {
   "cell_type": "markdown",
   "metadata": {},
   "source": [
    "### **MLP 3 HIDDEN LAYER** \n"
   ]
  },
  {
   "cell_type": "markdown",
   "metadata": {},
   "source": [
    "### Input → Dense(64) → Dense(128) → Dense(256) → Output (2 lớp)\n"
   ]
  },
  {
   "cell_type": "code",
   "execution_count": 24,
   "metadata": {},
   "outputs": [
    {
     "data": {
      "text/html": [
       "<pre style=\"white-space:pre;overflow-x:auto;line-height:normal;font-family:Menlo,'DejaVu Sans Mono',consolas,'Courier New',monospace\"><span style=\"font-weight: bold\">Model: \"functional_1\"</span>\n",
       "</pre>\n"
      ],
      "text/plain": [
       "\u001b[1mModel: \"functional_1\"\u001b[0m\n"
      ]
     },
     "metadata": {},
     "output_type": "display_data"
    },
    {
     "data": {
      "text/html": [
       "<pre style=\"white-space:pre;overflow-x:auto;line-height:normal;font-family:Menlo,'DejaVu Sans Mono',consolas,'Courier New',monospace\">┏━━━━━━━━━━━━━━━━━━━━━━━━━━━━━━━━━┳━━━━━━━━━━━━━━━━━━━━━━━━┳━━━━━━━━━━━━━━━┓\n",
       "┃<span style=\"font-weight: bold\"> Layer (type)                    </span>┃<span style=\"font-weight: bold\"> Output Shape           </span>┃<span style=\"font-weight: bold\">       Param # </span>┃\n",
       "┡━━━━━━━━━━━━━━━━━━━━━━━━━━━━━━━━━╇━━━━━━━━━━━━━━━━━━━━━━━━╇━━━━━━━━━━━━━━━┩\n",
       "│ input_layer_1 (<span style=\"color: #0087ff; text-decoration-color: #0087ff\">InputLayer</span>)      │ (<span style=\"color: #00d7ff; text-decoration-color: #00d7ff\">None</span>, <span style=\"color: #00af00; text-decoration-color: #00af00\">40</span>, <span style=\"color: #00af00; text-decoration-color: #00af00\">1</span>)          │             <span style=\"color: #00af00; text-decoration-color: #00af00\">0</span> │\n",
       "├─────────────────────────────────┼────────────────────────┼───────────────┤\n",
       "│ reshape_1 (<span style=\"color: #0087ff; text-decoration-color: #0087ff\">Reshape</span>)             │ (<span style=\"color: #00d7ff; text-decoration-color: #00d7ff\">None</span>, <span style=\"color: #00af00; text-decoration-color: #00af00\">40</span>)             │             <span style=\"color: #00af00; text-decoration-color: #00af00\">0</span> │\n",
       "├─────────────────────────────────┼────────────────────────┼───────────────┤\n",
       "│ dense_3 (<span style=\"color: #0087ff; text-decoration-color: #0087ff\">Dense</span>)                 │ (<span style=\"color: #00d7ff; text-decoration-color: #00d7ff\">None</span>, <span style=\"color: #00af00; text-decoration-color: #00af00\">64</span>)             │         <span style=\"color: #00af00; text-decoration-color: #00af00\">2,624</span> │\n",
       "├─────────────────────────────────┼────────────────────────┼───────────────┤\n",
       "│ batch_normalization_2           │ (<span style=\"color: #00d7ff; text-decoration-color: #00d7ff\">None</span>, <span style=\"color: #00af00; text-decoration-color: #00af00\">64</span>)             │           <span style=\"color: #00af00; text-decoration-color: #00af00\">256</span> │\n",
       "│ (<span style=\"color: #0087ff; text-decoration-color: #0087ff\">BatchNormalization</span>)            │                        │               │\n",
       "├─────────────────────────────────┼────────────────────────┼───────────────┤\n",
       "│ activation_3 (<span style=\"color: #0087ff; text-decoration-color: #0087ff\">Activation</span>)       │ (<span style=\"color: #00d7ff; text-decoration-color: #00d7ff\">None</span>, <span style=\"color: #00af00; text-decoration-color: #00af00\">64</span>)             │             <span style=\"color: #00af00; text-decoration-color: #00af00\">0</span> │\n",
       "├─────────────────────────────────┼────────────────────────┼───────────────┤\n",
       "│ dropout_2 (<span style=\"color: #0087ff; text-decoration-color: #0087ff\">Dropout</span>)             │ (<span style=\"color: #00d7ff; text-decoration-color: #00d7ff\">None</span>, <span style=\"color: #00af00; text-decoration-color: #00af00\">64</span>)             │             <span style=\"color: #00af00; text-decoration-color: #00af00\">0</span> │\n",
       "├─────────────────────────────────┼────────────────────────┼───────────────┤\n",
       "│ dense_4 (<span style=\"color: #0087ff; text-decoration-color: #0087ff\">Dense</span>)                 │ (<span style=\"color: #00d7ff; text-decoration-color: #00d7ff\">None</span>, <span style=\"color: #00af00; text-decoration-color: #00af00\">128</span>)            │         <span style=\"color: #00af00; text-decoration-color: #00af00\">8,320</span> │\n",
       "├─────────────────────────────────┼────────────────────────┼───────────────┤\n",
       "│ batch_normalization_3           │ (<span style=\"color: #00d7ff; text-decoration-color: #00d7ff\">None</span>, <span style=\"color: #00af00; text-decoration-color: #00af00\">128</span>)            │           <span style=\"color: #00af00; text-decoration-color: #00af00\">512</span> │\n",
       "│ (<span style=\"color: #0087ff; text-decoration-color: #0087ff\">BatchNormalization</span>)            │                        │               │\n",
       "├─────────────────────────────────┼────────────────────────┼───────────────┤\n",
       "│ activation_4 (<span style=\"color: #0087ff; text-decoration-color: #0087ff\">Activation</span>)       │ (<span style=\"color: #00d7ff; text-decoration-color: #00d7ff\">None</span>, <span style=\"color: #00af00; text-decoration-color: #00af00\">128</span>)            │             <span style=\"color: #00af00; text-decoration-color: #00af00\">0</span> │\n",
       "├─────────────────────────────────┼────────────────────────┼───────────────┤\n",
       "│ dropout_3 (<span style=\"color: #0087ff; text-decoration-color: #0087ff\">Dropout</span>)             │ (<span style=\"color: #00d7ff; text-decoration-color: #00d7ff\">None</span>, <span style=\"color: #00af00; text-decoration-color: #00af00\">128</span>)            │             <span style=\"color: #00af00; text-decoration-color: #00af00\">0</span> │\n",
       "├─────────────────────────────────┼────────────────────────┼───────────────┤\n",
       "│ dense_5 (<span style=\"color: #0087ff; text-decoration-color: #0087ff\">Dense</span>)                 │ (<span style=\"color: #00d7ff; text-decoration-color: #00d7ff\">None</span>, <span style=\"color: #00af00; text-decoration-color: #00af00\">256</span>)            │        <span style=\"color: #00af00; text-decoration-color: #00af00\">33,024</span> │\n",
       "├─────────────────────────────────┼────────────────────────┼───────────────┤\n",
       "│ batch_normalization_4           │ (<span style=\"color: #00d7ff; text-decoration-color: #00d7ff\">None</span>, <span style=\"color: #00af00; text-decoration-color: #00af00\">256</span>)            │         <span style=\"color: #00af00; text-decoration-color: #00af00\">1,024</span> │\n",
       "│ (<span style=\"color: #0087ff; text-decoration-color: #0087ff\">BatchNormalization</span>)            │                        │               │\n",
       "├─────────────────────────────────┼────────────────────────┼───────────────┤\n",
       "│ activation_5 (<span style=\"color: #0087ff; text-decoration-color: #0087ff\">Activation</span>)       │ (<span style=\"color: #00d7ff; text-decoration-color: #00d7ff\">None</span>, <span style=\"color: #00af00; text-decoration-color: #00af00\">256</span>)            │             <span style=\"color: #00af00; text-decoration-color: #00af00\">0</span> │\n",
       "├─────────────────────────────────┼────────────────────────┼───────────────┤\n",
       "│ dense_6 (<span style=\"color: #0087ff; text-decoration-color: #0087ff\">Dense</span>)                 │ (<span style=\"color: #00d7ff; text-decoration-color: #00d7ff\">None</span>, <span style=\"color: #00af00; text-decoration-color: #00af00\">2</span>)              │           <span style=\"color: #00af00; text-decoration-color: #00af00\">514</span> │\n",
       "├─────────────────────────────────┼────────────────────────┼───────────────┤\n",
       "│ activation_6 (<span style=\"color: #0087ff; text-decoration-color: #0087ff\">Activation</span>)       │ (<span style=\"color: #00d7ff; text-decoration-color: #00d7ff\">None</span>, <span style=\"color: #00af00; text-decoration-color: #00af00\">2</span>)              │             <span style=\"color: #00af00; text-decoration-color: #00af00\">0</span> │\n",
       "└─────────────────────────────────┴────────────────────────┴───────────────┘\n",
       "</pre>\n"
      ],
      "text/plain": [
       "┏━━━━━━━━━━━━━━━━━━━━━━━━━━━━━━━━━┳━━━━━━━━━━━━━━━━━━━━━━━━┳━━━━━━━━━━━━━━━┓\n",
       "┃\u001b[1m \u001b[0m\u001b[1mLayer (type)                   \u001b[0m\u001b[1m \u001b[0m┃\u001b[1m \u001b[0m\u001b[1mOutput Shape          \u001b[0m\u001b[1m \u001b[0m┃\u001b[1m \u001b[0m\u001b[1m      Param #\u001b[0m\u001b[1m \u001b[0m┃\n",
       "┡━━━━━━━━━━━━━━━━━━━━━━━━━━━━━━━━━╇━━━━━━━━━━━━━━━━━━━━━━━━╇━━━━━━━━━━━━━━━┩\n",
       "│ input_layer_1 (\u001b[38;5;33mInputLayer\u001b[0m)      │ (\u001b[38;5;45mNone\u001b[0m, \u001b[38;5;34m40\u001b[0m, \u001b[38;5;34m1\u001b[0m)          │             \u001b[38;5;34m0\u001b[0m │\n",
       "├─────────────────────────────────┼────────────────────────┼───────────────┤\n",
       "│ reshape_1 (\u001b[38;5;33mReshape\u001b[0m)             │ (\u001b[38;5;45mNone\u001b[0m, \u001b[38;5;34m40\u001b[0m)             │             \u001b[38;5;34m0\u001b[0m │\n",
       "├─────────────────────────────────┼────────────────────────┼───────────────┤\n",
       "│ dense_3 (\u001b[38;5;33mDense\u001b[0m)                 │ (\u001b[38;5;45mNone\u001b[0m, \u001b[38;5;34m64\u001b[0m)             │         \u001b[38;5;34m2,624\u001b[0m │\n",
       "├─────────────────────────────────┼────────────────────────┼───────────────┤\n",
       "│ batch_normalization_2           │ (\u001b[38;5;45mNone\u001b[0m, \u001b[38;5;34m64\u001b[0m)             │           \u001b[38;5;34m256\u001b[0m │\n",
       "│ (\u001b[38;5;33mBatchNormalization\u001b[0m)            │                        │               │\n",
       "├─────────────────────────────────┼────────────────────────┼───────────────┤\n",
       "│ activation_3 (\u001b[38;5;33mActivation\u001b[0m)       │ (\u001b[38;5;45mNone\u001b[0m, \u001b[38;5;34m64\u001b[0m)             │             \u001b[38;5;34m0\u001b[0m │\n",
       "├─────────────────────────────────┼────────────────────────┼───────────────┤\n",
       "│ dropout_2 (\u001b[38;5;33mDropout\u001b[0m)             │ (\u001b[38;5;45mNone\u001b[0m, \u001b[38;5;34m64\u001b[0m)             │             \u001b[38;5;34m0\u001b[0m │\n",
       "├─────────────────────────────────┼────────────────────────┼───────────────┤\n",
       "│ dense_4 (\u001b[38;5;33mDense\u001b[0m)                 │ (\u001b[38;5;45mNone\u001b[0m, \u001b[38;5;34m128\u001b[0m)            │         \u001b[38;5;34m8,320\u001b[0m │\n",
       "├─────────────────────────────────┼────────────────────────┼───────────────┤\n",
       "│ batch_normalization_3           │ (\u001b[38;5;45mNone\u001b[0m, \u001b[38;5;34m128\u001b[0m)            │           \u001b[38;5;34m512\u001b[0m │\n",
       "│ (\u001b[38;5;33mBatchNormalization\u001b[0m)            │                        │               │\n",
       "├─────────────────────────────────┼────────────────────────┼───────────────┤\n",
       "│ activation_4 (\u001b[38;5;33mActivation\u001b[0m)       │ (\u001b[38;5;45mNone\u001b[0m, \u001b[38;5;34m128\u001b[0m)            │             \u001b[38;5;34m0\u001b[0m │\n",
       "├─────────────────────────────────┼────────────────────────┼───────────────┤\n",
       "│ dropout_3 (\u001b[38;5;33mDropout\u001b[0m)             │ (\u001b[38;5;45mNone\u001b[0m, \u001b[38;5;34m128\u001b[0m)            │             \u001b[38;5;34m0\u001b[0m │\n",
       "├─────────────────────────────────┼────────────────────────┼───────────────┤\n",
       "│ dense_5 (\u001b[38;5;33mDense\u001b[0m)                 │ (\u001b[38;5;45mNone\u001b[0m, \u001b[38;5;34m256\u001b[0m)            │        \u001b[38;5;34m33,024\u001b[0m │\n",
       "├─────────────────────────────────┼────────────────────────┼───────────────┤\n",
       "│ batch_normalization_4           │ (\u001b[38;5;45mNone\u001b[0m, \u001b[38;5;34m256\u001b[0m)            │         \u001b[38;5;34m1,024\u001b[0m │\n",
       "│ (\u001b[38;5;33mBatchNormalization\u001b[0m)            │                        │               │\n",
       "├─────────────────────────────────┼────────────────────────┼───────────────┤\n",
       "│ activation_5 (\u001b[38;5;33mActivation\u001b[0m)       │ (\u001b[38;5;45mNone\u001b[0m, \u001b[38;5;34m256\u001b[0m)            │             \u001b[38;5;34m0\u001b[0m │\n",
       "├─────────────────────────────────┼────────────────────────┼───────────────┤\n",
       "│ dense_6 (\u001b[38;5;33mDense\u001b[0m)                 │ (\u001b[38;5;45mNone\u001b[0m, \u001b[38;5;34m2\u001b[0m)              │           \u001b[38;5;34m514\u001b[0m │\n",
       "├─────────────────────────────────┼────────────────────────┼───────────────┤\n",
       "│ activation_6 (\u001b[38;5;33mActivation\u001b[0m)       │ (\u001b[38;5;45mNone\u001b[0m, \u001b[38;5;34m2\u001b[0m)              │             \u001b[38;5;34m0\u001b[0m │\n",
       "└─────────────────────────────────┴────────────────────────┴───────────────┘\n"
      ]
     },
     "metadata": {},
     "output_type": "display_data"
    },
    {
     "data": {
      "text/html": [
       "<pre style=\"white-space:pre;overflow-x:auto;line-height:normal;font-family:Menlo,'DejaVu Sans Mono',consolas,'Courier New',monospace\"><span style=\"font-weight: bold\"> Total params: </span><span style=\"color: #00af00; text-decoration-color: #00af00\">46,274</span> (180.76 KB)\n",
       "</pre>\n"
      ],
      "text/plain": [
       "\u001b[1m Total params: \u001b[0m\u001b[38;5;34m46,274\u001b[0m (180.76 KB)\n"
      ]
     },
     "metadata": {},
     "output_type": "display_data"
    },
    {
     "data": {
      "text/html": [
       "<pre style=\"white-space:pre;overflow-x:auto;line-height:normal;font-family:Menlo,'DejaVu Sans Mono',consolas,'Courier New',monospace\"><span style=\"font-weight: bold\"> Trainable params: </span><span style=\"color: #00af00; text-decoration-color: #00af00\">45,378</span> (177.26 KB)\n",
       "</pre>\n"
      ],
      "text/plain": [
       "\u001b[1m Trainable params: \u001b[0m\u001b[38;5;34m45,378\u001b[0m (177.26 KB)\n"
      ]
     },
     "metadata": {},
     "output_type": "display_data"
    },
    {
     "data": {
      "text/html": [
       "<pre style=\"white-space:pre;overflow-x:auto;line-height:normal;font-family:Menlo,'DejaVu Sans Mono',consolas,'Courier New',monospace\"><span style=\"font-weight: bold\"> Non-trainable params: </span><span style=\"color: #00af00; text-decoration-color: #00af00\">896</span> (3.50 KB)\n",
       "</pre>\n"
      ],
      "text/plain": [
       "\u001b[1m Non-trainable params: \u001b[0m\u001b[38;5;34m896\u001b[0m (3.50 KB)\n"
      ]
     },
     "metadata": {},
     "output_type": "display_data"
    }
   ],
   "source": [
    "# Định nghĩa lớp đầu vào với kích thước (số đặc trưng, 1)\n",
    "inputs = keras.layers.Input(shape=(x_train.shape[1], 1))\n",
    "\n",
    "# Chuyển đổi kích thước từ (số đặc trưng, 1) sang (số đặc trưng,)\n",
    "RS0 = keras.layers.Reshape((x_train.shape[1], ))(inputs)\n",
    "\n",
    "# Lớp Fully Connected đầu tiên với 64 neuron\n",
    "FC0 = keras.layers.Dense(64, bias_initializer=keras.initializers.VarianceScaling())(RS0)\n",
    "\n",
    "# Batch Normalization để chuẩn hóa đầu ra của lớp Dense\n",
    "BN0 = keras.layers.BatchNormalization(axis=-1)(FC0)\n",
    "\n",
    "# Kích hoạt bằng hàm ReLU\n",
    "AC0 = keras.layers.Activation('relu')(BN0)\n",
    "\n",
    "# Dropout để tắt ngẫu nhiên 20% neuron, giảm overfitting\n",
    "DP0 = keras.layers.Dropout(0.2)(AC0)\n",
    "\n",
    "# Lớp Fully Connected thứ hai với 128 neuron\n",
    "FC1 = keras.layers.Dense(128, bias_initializer=keras.initializers.VarianceScaling())(DP0)\n",
    "\n",
    "# Batch Normalization\n",
    "BN1 = keras.layers.BatchNormalization(axis=-1)(FC1)\n",
    "\n",
    "# Kích hoạt bằng ReLU\n",
    "AC1 = keras.layers.Activation('relu')(BN1)\n",
    "\n",
    "# Dropout để tắt ngẫu nhiên 20% neuron\n",
    "DP1 = keras.layers.Dropout(0.2)(AC1)\n",
    "\n",
    "# Lớp Fully Connected thứ ba với 256 neuron\n",
    "FC2 = keras.layers.Dense(256, bias_initializer=keras.initializers.VarianceScaling())(DP1)\n",
    "\n",
    "# Batch Normalization\n",
    "BN2 = keras.layers.BatchNormalization(axis=-1)(FC2)\n",
    "\n",
    "# Kích hoạt bằng ReLU\n",
    "AC2 = keras.layers.Activation('relu')(BN2)\n",
    "\n",
    "# Lớp Fully Connected cuối cùng với 2 neuron (tương ứng 2 lớp đầu ra)\n",
    "FC3 = keras.layers.Dense(2, bias_initializer=keras.initializers.VarianceScaling())(AC2)\n",
    "\n",
    "# Hàm kích hoạt Softmax để chuyển đổi đầu ra thành xác suất\n",
    "outputs = keras.layers.Activation('softmax')(FC3)\n",
    "\n",
    "# Định nghĩa mô hình với lớp đầu vào và đầu ra\n",
    "myMLP3 = keras.Model(inputs=inputs, outputs=outputs)\n",
    "\n",
    "# Biên dịch mô hình:\n",
    "# - Optimizer: Adam với learning rate là 0.01\n",
    "# - Loss: categorical_crossentropy, dùng cho bài toán phân loại với nhãn one-hot encoded\n",
    "# - Metrics: Độ chính xác (accuracy)\n",
    "myMLP3.compile(optimizer=keras.optimizers.Adam(learning_rate=0.01),\n",
    "               loss='categorical_crossentropy',\n",
    "               metrics=['accuracy'])\n",
    "\n",
    "# Hiển thị kiến trúc mô hình, bao gồm các lớp, tham số và kích thước đầu ra\n",
    "myMLP3.summary()\n"
   ]
  },
  {
   "cell_type": "markdown",
   "metadata": {},
   "source": [
    "### Kiến trúc:\n",
    "\n",
    "- Mô hình có 3 lớp ẩn với số neuron lần lượt là 64 → 128 → 256.\n",
    "- Mỗi lớp sử dụng Batch Normalization, ReLU activation, và Dropout (trừ lớp ẩn cuối cùng không sử dụng Dropout).\n",
    "- Lớp đầu ra có 2 neuron và sử dụng Softmax để dự đoán xác suất của 2 lớp.\n",
    "### Ưu điểm:\n",
    "\n",
    "- Sử dụng Batch Normalization: Ổn định và tăng tốc độ hội tụ.\n",
    "- Dropout: Giảm overfitting.\n",
    "- Số lượng neuron tăng dần: Cho phép mô hình học các đặc trưng phức tạp hơn qua từng lớp.\n",
    "\n",
    "### Nhược điểm tiềm năng:\n",
    "\n",
    "- Learning rate 0.01 khá cao, có thể gây dao động trong quá trình hội tụ. ***có thể thử giá trị nhỏ hơn như 0.001***\n",
    "- Việc không sử dụng Dropout ở lớp cuối cùng (256 neurons) có thể làm mô hình dễ overfit hơn."
   ]
  },
  {
   "cell_type": "code",
   "execution_count": 25,
   "metadata": {},
   "outputs": [
    {
     "name": "stdout",
     "output_type": "stream",
     "text": [
      "\u001b[1m171/171\u001b[0m \u001b[32m━━━━━━━━━━━━━━━━━━━━\u001b[0m\u001b[37m\u001b[0m \u001b[1m2s\u001b[0m 2ms/step - accuracy: 0.7329 - loss: 0.8454\n"
     ]
    },
    {
     "data": {
      "text/plain": [
       "<keras.src.callbacks.history.History at 0x1b54b9bd9d0>"
      ]
     },
     "execution_count": 25,
     "metadata": {},
     "output_type": "execute_result"
    }
   ],
   "source": [
    "class_weight = {0: 1, 1: 2.2}\n",
    "\n",
    "myMLP3.fit(x_train,y_train,epochs=1,verbose=1, class_weight=class_weight)"
   ]
  },
  {
   "cell_type": "code",
   "execution_count": 26,
   "metadata": {},
   "outputs": [
    {
     "name": "stdout",
     "output_type": "stream",
     "text": [
      "\u001b[1m988/988\u001b[0m \u001b[32m━━━━━━━━━━━━━━━━━━━━\u001b[0m\u001b[37m\u001b[0m \u001b[1m1s\u001b[0m 722us/step - accuracy: 0.8189 - loss: 0.3350\n",
      "0.8183486461639404\n"
     ]
    }
   ],
   "source": [
    "test_loss,test_acc = myMLP3.evaluate(x_test,y_test)\n",
    "print(test_acc)"
   ]
  },
  {
   "cell_type": "code",
   "execution_count": 27,
   "metadata": {},
   "outputs": [
    {
     "name": "stdout",
     "output_type": "stream",
     "text": [
      "\u001b[1m988/988\u001b[0m \u001b[32m━━━━━━━━━━━━━━━━━━━━\u001b[0m\u001b[37m\u001b[0m \u001b[1m1s\u001b[0m 848us/step\n",
      "[[25618  5653]\n",
      " [   89   250]]\n"
     ]
    }
   ],
   "source": [
    "from sklearn import metrics\n",
    "predlabel = myMLP3.predict(x_test)\n",
    "f = np.argmax(predlabel,axis=1)\n",
    "confMat = metrics.confusion_matrix(np.argmax(y_test,axis=1),f)\n",
    "print(confMat)"
   ]
  },
  {
   "cell_type": "markdown",
   "metadata": {},
   "source": [
    "### Input → Dense(128) → Reshape → Conv1D(4 filters) → MaxPooling → Flatten → Dense(2) → Output (Softmax)\n"
   ]
  },
  {
   "cell_type": "code",
   "execution_count": 28,
   "metadata": {},
   "outputs": [
    {
     "data": {
      "text/html": [
       "<pre style=\"white-space:pre;overflow-x:auto;line-height:normal;font-family:Menlo,'DejaVu Sans Mono',consolas,'Courier New',monospace\"><span style=\"font-weight: bold\">Model: \"functional_2\"</span>\n",
       "</pre>\n"
      ],
      "text/plain": [
       "\u001b[1mModel: \"functional_2\"\u001b[0m\n"
      ]
     },
     "metadata": {},
     "output_type": "display_data"
    },
    {
     "data": {
      "text/html": [
       "<pre style=\"white-space:pre;overflow-x:auto;line-height:normal;font-family:Menlo,'DejaVu Sans Mono',consolas,'Courier New',monospace\">┏━━━━━━━━━━━━━━━━━━━━━━━━━━━━━━━━━┳━━━━━━━━━━━━━━━━━━━━━━━━┳━━━━━━━━━━━━━━━┓\n",
       "┃<span style=\"font-weight: bold\"> Layer (type)                    </span>┃<span style=\"font-weight: bold\"> Output Shape           </span>┃<span style=\"font-weight: bold\">       Param # </span>┃\n",
       "┡━━━━━━━━━━━━━━━━━━━━━━━━━━━━━━━━━╇━━━━━━━━━━━━━━━━━━━━━━━━╇━━━━━━━━━━━━━━━┩\n",
       "│ input_layer_2 (<span style=\"color: #0087ff; text-decoration-color: #0087ff\">InputLayer</span>)      │ (<span style=\"color: #00d7ff; text-decoration-color: #00d7ff\">None</span>, <span style=\"color: #00af00; text-decoration-color: #00af00\">40</span>, <span style=\"color: #00af00; text-decoration-color: #00af00\">1</span>)          │             <span style=\"color: #00af00; text-decoration-color: #00af00\">0</span> │\n",
       "├─────────────────────────────────┼────────────────────────┼───────────────┤\n",
       "│ reshape_2 (<span style=\"color: #0087ff; text-decoration-color: #0087ff\">Reshape</span>)             │ (<span style=\"color: #00d7ff; text-decoration-color: #00d7ff\">None</span>, <span style=\"color: #00af00; text-decoration-color: #00af00\">40</span>)             │             <span style=\"color: #00af00; text-decoration-color: #00af00\">0</span> │\n",
       "├─────────────────────────────────┼────────────────────────┼───────────────┤\n",
       "│ dense_7 (<span style=\"color: #0087ff; text-decoration-color: #0087ff\">Dense</span>)                 │ (<span style=\"color: #00d7ff; text-decoration-color: #00d7ff\">None</span>, <span style=\"color: #00af00; text-decoration-color: #00af00\">128</span>)            │         <span style=\"color: #00af00; text-decoration-color: #00af00\">5,248</span> │\n",
       "├─────────────────────────────────┼────────────────────────┼───────────────┤\n",
       "│ batch_normalization_5           │ (<span style=\"color: #00d7ff; text-decoration-color: #00d7ff\">None</span>, <span style=\"color: #00af00; text-decoration-color: #00af00\">128</span>)            │           <span style=\"color: #00af00; text-decoration-color: #00af00\">512</span> │\n",
       "│ (<span style=\"color: #0087ff; text-decoration-color: #0087ff\">BatchNormalization</span>)            │                        │               │\n",
       "├─────────────────────────────────┼────────────────────────┼───────────────┤\n",
       "│ activation_7 (<span style=\"color: #0087ff; text-decoration-color: #0087ff\">Activation</span>)       │ (<span style=\"color: #00d7ff; text-decoration-color: #00d7ff\">None</span>, <span style=\"color: #00af00; text-decoration-color: #00af00\">128</span>)            │             <span style=\"color: #00af00; text-decoration-color: #00af00\">0</span> │\n",
       "├─────────────────────────────────┼────────────────────────┼───────────────┤\n",
       "│ dropout_4 (<span style=\"color: #0087ff; text-decoration-color: #0087ff\">Dropout</span>)             │ (<span style=\"color: #00d7ff; text-decoration-color: #00d7ff\">None</span>, <span style=\"color: #00af00; text-decoration-color: #00af00\">128</span>)            │             <span style=\"color: #00af00; text-decoration-color: #00af00\">0</span> │\n",
       "├─────────────────────────────────┼────────────────────────┼───────────────┤\n",
       "│ reshape_3 (<span style=\"color: #0087ff; text-decoration-color: #0087ff\">Reshape</span>)             │ (<span style=\"color: #00d7ff; text-decoration-color: #00d7ff\">None</span>, <span style=\"color: #00af00; text-decoration-color: #00af00\">128</span>, <span style=\"color: #00af00; text-decoration-color: #00af00\">1</span>)         │             <span style=\"color: #00af00; text-decoration-color: #00af00\">0</span> │\n",
       "├─────────────────────────────────┼────────────────────────┼───────────────┤\n",
       "│ conv1d (<span style=\"color: #0087ff; text-decoration-color: #0087ff\">Conv1D</span>)                 │ (<span style=\"color: #00d7ff; text-decoration-color: #00d7ff\">None</span>, <span style=\"color: #00af00; text-decoration-color: #00af00\">126</span>, <span style=\"color: #00af00; text-decoration-color: #00af00\">4</span>)         │            <span style=\"color: #00af00; text-decoration-color: #00af00\">16</span> │\n",
       "├─────────────────────────────────┼────────────────────────┼───────────────┤\n",
       "│ batch_normalization_6           │ (<span style=\"color: #00d7ff; text-decoration-color: #00d7ff\">None</span>, <span style=\"color: #00af00; text-decoration-color: #00af00\">126</span>, <span style=\"color: #00af00; text-decoration-color: #00af00\">4</span>)         │            <span style=\"color: #00af00; text-decoration-color: #00af00\">16</span> │\n",
       "│ (<span style=\"color: #0087ff; text-decoration-color: #0087ff\">BatchNormalization</span>)            │                        │               │\n",
       "├─────────────────────────────────┼────────────────────────┼───────────────┤\n",
       "│ activation_8 (<span style=\"color: #0087ff; text-decoration-color: #0087ff\">Activation</span>)       │ (<span style=\"color: #00d7ff; text-decoration-color: #00d7ff\">None</span>, <span style=\"color: #00af00; text-decoration-color: #00af00\">126</span>, <span style=\"color: #00af00; text-decoration-color: #00af00\">4</span>)         │             <span style=\"color: #00af00; text-decoration-color: #00af00\">0</span> │\n",
       "├─────────────────────────────────┼────────────────────────┼───────────────┤\n",
       "│ max_pooling1d (<span style=\"color: #0087ff; text-decoration-color: #0087ff\">MaxPooling1D</span>)    │ (<span style=\"color: #00d7ff; text-decoration-color: #00d7ff\">None</span>, <span style=\"color: #00af00; text-decoration-color: #00af00\">63</span>, <span style=\"color: #00af00; text-decoration-color: #00af00\">4</span>)          │             <span style=\"color: #00af00; text-decoration-color: #00af00\">0</span> │\n",
       "├─────────────────────────────────┼────────────────────────┼───────────────┤\n",
       "│ flatten (<span style=\"color: #0087ff; text-decoration-color: #0087ff\">Flatten</span>)               │ (<span style=\"color: #00d7ff; text-decoration-color: #00d7ff\">None</span>, <span style=\"color: #00af00; text-decoration-color: #00af00\">252</span>)            │             <span style=\"color: #00af00; text-decoration-color: #00af00\">0</span> │\n",
       "├─────────────────────────────────┼────────────────────────┼───────────────┤\n",
       "│ dense_8 (<span style=\"color: #0087ff; text-decoration-color: #0087ff\">Dense</span>)                 │ (<span style=\"color: #00d7ff; text-decoration-color: #00d7ff\">None</span>, <span style=\"color: #00af00; text-decoration-color: #00af00\">2</span>)              │           <span style=\"color: #00af00; text-decoration-color: #00af00\">506</span> │\n",
       "├─────────────────────────────────┼────────────────────────┼───────────────┤\n",
       "│ activation_9 (<span style=\"color: #0087ff; text-decoration-color: #0087ff\">Activation</span>)       │ (<span style=\"color: #00d7ff; text-decoration-color: #00d7ff\">None</span>, <span style=\"color: #00af00; text-decoration-color: #00af00\">2</span>)              │             <span style=\"color: #00af00; text-decoration-color: #00af00\">0</span> │\n",
       "└─────────────────────────────────┴────────────────────────┴───────────────┘\n",
       "</pre>\n"
      ],
      "text/plain": [
       "┏━━━━━━━━━━━━━━━━━━━━━━━━━━━━━━━━━┳━━━━━━━━━━━━━━━━━━━━━━━━┳━━━━━━━━━━━━━━━┓\n",
       "┃\u001b[1m \u001b[0m\u001b[1mLayer (type)                   \u001b[0m\u001b[1m \u001b[0m┃\u001b[1m \u001b[0m\u001b[1mOutput Shape          \u001b[0m\u001b[1m \u001b[0m┃\u001b[1m \u001b[0m\u001b[1m      Param #\u001b[0m\u001b[1m \u001b[0m┃\n",
       "┡━━━━━━━━━━━━━━━━━━━━━━━━━━━━━━━━━╇━━━━━━━━━━━━━━━━━━━━━━━━╇━━━━━━━━━━━━━━━┩\n",
       "│ input_layer_2 (\u001b[38;5;33mInputLayer\u001b[0m)      │ (\u001b[38;5;45mNone\u001b[0m, \u001b[38;5;34m40\u001b[0m, \u001b[38;5;34m1\u001b[0m)          │             \u001b[38;5;34m0\u001b[0m │\n",
       "├─────────────────────────────────┼────────────────────────┼───────────────┤\n",
       "│ reshape_2 (\u001b[38;5;33mReshape\u001b[0m)             │ (\u001b[38;5;45mNone\u001b[0m, \u001b[38;5;34m40\u001b[0m)             │             \u001b[38;5;34m0\u001b[0m │\n",
       "├─────────────────────────────────┼────────────────────────┼───────────────┤\n",
       "│ dense_7 (\u001b[38;5;33mDense\u001b[0m)                 │ (\u001b[38;5;45mNone\u001b[0m, \u001b[38;5;34m128\u001b[0m)            │         \u001b[38;5;34m5,248\u001b[0m │\n",
       "├─────────────────────────────────┼────────────────────────┼───────────────┤\n",
       "│ batch_normalization_5           │ (\u001b[38;5;45mNone\u001b[0m, \u001b[38;5;34m128\u001b[0m)            │           \u001b[38;5;34m512\u001b[0m │\n",
       "│ (\u001b[38;5;33mBatchNormalization\u001b[0m)            │                        │               │\n",
       "├─────────────────────────────────┼────────────────────────┼───────────────┤\n",
       "│ activation_7 (\u001b[38;5;33mActivation\u001b[0m)       │ (\u001b[38;5;45mNone\u001b[0m, \u001b[38;5;34m128\u001b[0m)            │             \u001b[38;5;34m0\u001b[0m │\n",
       "├─────────────────────────────────┼────────────────────────┼───────────────┤\n",
       "│ dropout_4 (\u001b[38;5;33mDropout\u001b[0m)             │ (\u001b[38;5;45mNone\u001b[0m, \u001b[38;5;34m128\u001b[0m)            │             \u001b[38;5;34m0\u001b[0m │\n",
       "├─────────────────────────────────┼────────────────────────┼───────────────┤\n",
       "│ reshape_3 (\u001b[38;5;33mReshape\u001b[0m)             │ (\u001b[38;5;45mNone\u001b[0m, \u001b[38;5;34m128\u001b[0m, \u001b[38;5;34m1\u001b[0m)         │             \u001b[38;5;34m0\u001b[0m │\n",
       "├─────────────────────────────────┼────────────────────────┼───────────────┤\n",
       "│ conv1d (\u001b[38;5;33mConv1D\u001b[0m)                 │ (\u001b[38;5;45mNone\u001b[0m, \u001b[38;5;34m126\u001b[0m, \u001b[38;5;34m4\u001b[0m)         │            \u001b[38;5;34m16\u001b[0m │\n",
       "├─────────────────────────────────┼────────────────────────┼───────────────┤\n",
       "│ batch_normalization_6           │ (\u001b[38;5;45mNone\u001b[0m, \u001b[38;5;34m126\u001b[0m, \u001b[38;5;34m4\u001b[0m)         │            \u001b[38;5;34m16\u001b[0m │\n",
       "│ (\u001b[38;5;33mBatchNormalization\u001b[0m)            │                        │               │\n",
       "├─────────────────────────────────┼────────────────────────┼───────────────┤\n",
       "│ activation_8 (\u001b[38;5;33mActivation\u001b[0m)       │ (\u001b[38;5;45mNone\u001b[0m, \u001b[38;5;34m126\u001b[0m, \u001b[38;5;34m4\u001b[0m)         │             \u001b[38;5;34m0\u001b[0m │\n",
       "├─────────────────────────────────┼────────────────────────┼───────────────┤\n",
       "│ max_pooling1d (\u001b[38;5;33mMaxPooling1D\u001b[0m)    │ (\u001b[38;5;45mNone\u001b[0m, \u001b[38;5;34m63\u001b[0m, \u001b[38;5;34m4\u001b[0m)          │             \u001b[38;5;34m0\u001b[0m │\n",
       "├─────────────────────────────────┼────────────────────────┼───────────────┤\n",
       "│ flatten (\u001b[38;5;33mFlatten\u001b[0m)               │ (\u001b[38;5;45mNone\u001b[0m, \u001b[38;5;34m252\u001b[0m)            │             \u001b[38;5;34m0\u001b[0m │\n",
       "├─────────────────────────────────┼────────────────────────┼───────────────┤\n",
       "│ dense_8 (\u001b[38;5;33mDense\u001b[0m)                 │ (\u001b[38;5;45mNone\u001b[0m, \u001b[38;5;34m2\u001b[0m)              │           \u001b[38;5;34m506\u001b[0m │\n",
       "├─────────────────────────────────┼────────────────────────┼───────────────┤\n",
       "│ activation_9 (\u001b[38;5;33mActivation\u001b[0m)       │ (\u001b[38;5;45mNone\u001b[0m, \u001b[38;5;34m2\u001b[0m)              │             \u001b[38;5;34m0\u001b[0m │\n",
       "└─────────────────────────────────┴────────────────────────┴───────────────┘\n"
      ]
     },
     "metadata": {},
     "output_type": "display_data"
    },
    {
     "data": {
      "text/html": [
       "<pre style=\"white-space:pre;overflow-x:auto;line-height:normal;font-family:Menlo,'DejaVu Sans Mono',consolas,'Courier New',monospace\"><span style=\"font-weight: bold\"> Total params: </span><span style=\"color: #00af00; text-decoration-color: #00af00\">6,298</span> (24.60 KB)\n",
       "</pre>\n"
      ],
      "text/plain": [
       "\u001b[1m Total params: \u001b[0m\u001b[38;5;34m6,298\u001b[0m (24.60 KB)\n"
      ]
     },
     "metadata": {},
     "output_type": "display_data"
    },
    {
     "data": {
      "text/html": [
       "<pre style=\"white-space:pre;overflow-x:auto;line-height:normal;font-family:Menlo,'DejaVu Sans Mono',consolas,'Courier New',monospace\"><span style=\"font-weight: bold\"> Trainable params: </span><span style=\"color: #00af00; text-decoration-color: #00af00\">6,034</span> (23.57 KB)\n",
       "</pre>\n"
      ],
      "text/plain": [
       "\u001b[1m Trainable params: \u001b[0m\u001b[38;5;34m6,034\u001b[0m (23.57 KB)\n"
      ]
     },
     "metadata": {},
     "output_type": "display_data"
    },
    {
     "data": {
      "text/html": [
       "<pre style=\"white-space:pre;overflow-x:auto;line-height:normal;font-family:Menlo,'DejaVu Sans Mono',consolas,'Courier New',monospace\"><span style=\"font-weight: bold\"> Non-trainable params: </span><span style=\"color: #00af00; text-decoration-color: #00af00\">264</span> (1.03 KB)\n",
       "</pre>\n"
      ],
      "text/plain": [
       "\u001b[1m Non-trainable params: \u001b[0m\u001b[38;5;34m264\u001b[0m (1.03 KB)\n"
      ]
     },
     "metadata": {},
     "output_type": "display_data"
    }
   ],
   "source": [
    "# Định nghĩa lớp đầu vào với kích thước (số đặc trưng, 1)\n",
    "inputs = keras.layers.Input(shape=(x_train.shape[1], 1))\n",
    "\n",
    "# Chuyển đổi kích thước từ (số đặc trưng, 1) sang (số đặc trưng,)\n",
    "RS0 = keras.layers.Reshape((x_train.shape[1], ))(inputs)\n",
    "\n",
    "# Lớp Fully Connected đầu tiên với 128 neuron, khởi tạo trọng số bằng VarianceScaling\n",
    "FC0 = keras.layers.Dense(128, bias_initializer=keras.initializers.VarianceScaling())(RS0)\n",
    "\n",
    "# Batch Normalization để chuẩn hóa đầu ra của lớp Dense, giúp ổn định quá trình huấn luyện\n",
    "BN0 = keras.layers.BatchNormalization(axis=-1)(FC0)\n",
    "\n",
    "# Hàm kích hoạt ReLU để thêm tính phi tuyến cho mô hình\n",
    "AC0 = keras.layers.Activation('relu')(BN0)\n",
    "\n",
    "# Dropout để tắt ngẫu nhiên 20% neuron, giúp giảm overfitting\n",
    "DP0 = keras.layers.Dropout(0.2)(AC0)\n",
    "\n",
    "# Chuyển đổi kích thước từ (128,) sang (128, 1) để phù hợp với lớp Conv1D\n",
    "RS1 = keras.layers.Reshape((128, 1))(DP0)\n",
    "\n",
    "# Lớp Convolutional 1D với 4 bộ lọc (filters), kernel size = 3 và strides = 1\n",
    "FC1 = keras.layers.Conv1D(4, 3, strides=1)(RS1)\n",
    "\n",
    "# Batch Normalization để chuẩn hóa đầu ra của lớp Conv1D\n",
    "BN1 = keras.layers.BatchNormalization(axis=-1)(FC1)\n",
    "\n",
    "# Hàm kích hoạt ReLU cho lớp Conv1D\n",
    "AC1 = keras.layers.Activation('relu')(BN1)\n",
    "\n",
    "# Lớp MaxPooling 1D với kích thước cửa sổ (pool_size) là 2, giảm kích thước đầu ra xuống một nửa\n",
    "Pool1 = keras.layers.MaxPool1D(pool_size=2)(AC1)\n",
    "\n",
    "# Làm phẳng đầu ra của lớp MaxPooling thành vector 1 chiều để đưa vào lớp Dense\n",
    "FL1 = keras.layers.Flatten()(Pool1)\n",
    "\n",
    "# Lớp Fully Connected cuối cùng với 2 neuron, tương ứng với 2 lớp đầu ra\n",
    "FC3 = keras.layers.Dense(2, bias_initializer=keras.initializers.VarianceScaling())(FL1)\n",
    "\n",
    "# Hàm kích hoạt Softmax để chuyển đổi đầu ra thành xác suất của 2 lớp\n",
    "outputs = keras.layers.Activation('softmax')(FC3)\n",
    "\n",
    "# Định nghĩa mô hình với đầu vào và đầu ra đã tạo\n",
    "myCNN1D1 = keras.Model(inputs=inputs, outputs=outputs)\n",
    "\n",
    "# Biên dịch mô hình với:\n",
    "# - Optimizer: Adam (mặc định learning rate = 0.001)\n",
    "# - Loss: categorical_crossentropy (dùng cho phân loại với nhãn one-hot encoded)\n",
    "# - Metrics: accuracy (độ chính xác)\n",
    "myCNN1D1.compile(optimizer=keras.optimizers.Adam(),\n",
    "                 loss='categorical_crossentropy',\n",
    "                 metrics=['accuracy'])\n",
    "\n",
    "# Hiển thị tóm tắt kiến trúc mô hình, bao gồm kích thước đầu ra và số lượng tham số của từng lớp\n",
    "myCNN1D1.summary()\n"
   ]
  },
  {
   "cell_type": "code",
   "execution_count": 29,
   "metadata": {},
   "outputs": [
    {
     "name": "stdout",
     "output_type": "stream",
     "text": [
      "\u001b[1m171/171\u001b[0m \u001b[32m━━━━━━━━━━━━━━━━━━━━\u001b[0m\u001b[37m\u001b[0m \u001b[1m2s\u001b[0m 2ms/step - accuracy: 0.6469 - loss: 1.0902\n"
     ]
    },
    {
     "data": {
      "text/plain": [
       "<keras.src.callbacks.history.History at 0x1b55d1ba850>"
      ]
     },
     "execution_count": 29,
     "metadata": {},
     "output_type": "execute_result"
    }
   ],
   "source": [
    "class_weight = {0: 1, 1: 4}\n",
    "\n",
    "myCNN1D1.fit(x_train,y_train,epochs=1,verbose=1, class_weight=class_weight)"
   ]
  },
  {
   "cell_type": "code",
   "execution_count": 30,
   "metadata": {},
   "outputs": [
    {
     "name": "stdout",
     "output_type": "stream",
     "text": [
      "\u001b[1m988/988\u001b[0m \u001b[32m━━━━━━━━━━━━━━━━━━━━\u001b[0m\u001b[37m\u001b[0m \u001b[1m1s\u001b[0m 823us/step - accuracy: 0.8714 - loss: 0.3451\n",
      "0.8690288066864014\n"
     ]
    }
   ],
   "source": [
    "test_loss,test_acc = myCNN1D1.evaluate(x_test,y_test)\n",
    "print(test_acc)"
   ]
  },
  {
   "cell_type": "code",
   "execution_count": 31,
   "metadata": {},
   "outputs": [
    {
     "name": "stdout",
     "output_type": "stream",
     "text": [
      "\u001b[1m988/988\u001b[0m \u001b[32m━━━━━━━━━━━━━━━━━━━━\u001b[0m\u001b[37m\u001b[0m \u001b[1m1s\u001b[0m 919us/step\n",
      "[[27264  4007]\n",
      " [  133   206]]\n"
     ]
    }
   ],
   "source": [
    "from sklearn import metrics\n",
    "predlabel = myCNN1D1.predict(x_test)\n",
    "f = np.argmax(predlabel,axis=1)\n",
    "confMat = metrics.confusion_matrix(np.argmax(y_test,axis=1),f)\n",
    "print(confMat)"
   ]
  },
  {
   "cell_type": "markdown",
   "metadata": {},
   "source": [
    "### Input → Dense(128) → Conv1D(4 filters) → Conv1D(8 filters) → Output (2 classes)\n"
   ]
  },
  {
   "cell_type": "code",
   "execution_count": 32,
   "metadata": {},
   "outputs": [
    {
     "data": {
      "text/html": [
       "<pre style=\"white-space:pre;overflow-x:auto;line-height:normal;font-family:Menlo,'DejaVu Sans Mono',consolas,'Courier New',monospace\"><span style=\"font-weight: bold\">Model: \"functional_3\"</span>\n",
       "</pre>\n"
      ],
      "text/plain": [
       "\u001b[1mModel: \"functional_3\"\u001b[0m\n"
      ]
     },
     "metadata": {},
     "output_type": "display_data"
    },
    {
     "data": {
      "text/html": [
       "<pre style=\"white-space:pre;overflow-x:auto;line-height:normal;font-family:Menlo,'DejaVu Sans Mono',consolas,'Courier New',monospace\">┏━━━━━━━━━━━━━━━━━━━━━━━━━━━━━━━━━┳━━━━━━━━━━━━━━━━━━━━━━━━┳━━━━━━━━━━━━━━━┓\n",
       "┃<span style=\"font-weight: bold\"> Layer (type)                    </span>┃<span style=\"font-weight: bold\"> Output Shape           </span>┃<span style=\"font-weight: bold\">       Param # </span>┃\n",
       "┡━━━━━━━━━━━━━━━━━━━━━━━━━━━━━━━━━╇━━━━━━━━━━━━━━━━━━━━━━━━╇━━━━━━━━━━━━━━━┩\n",
       "│ input_layer_3 (<span style=\"color: #0087ff; text-decoration-color: #0087ff\">InputLayer</span>)      │ (<span style=\"color: #00d7ff; text-decoration-color: #00d7ff\">None</span>, <span style=\"color: #00af00; text-decoration-color: #00af00\">40</span>, <span style=\"color: #00af00; text-decoration-color: #00af00\">1</span>)          │             <span style=\"color: #00af00; text-decoration-color: #00af00\">0</span> │\n",
       "├─────────────────────────────────┼────────────────────────┼───────────────┤\n",
       "│ reshape_4 (<span style=\"color: #0087ff; text-decoration-color: #0087ff\">Reshape</span>)             │ (<span style=\"color: #00d7ff; text-decoration-color: #00d7ff\">None</span>, <span style=\"color: #00af00; text-decoration-color: #00af00\">40</span>)             │             <span style=\"color: #00af00; text-decoration-color: #00af00\">0</span> │\n",
       "├─────────────────────────────────┼────────────────────────┼───────────────┤\n",
       "│ dense_9 (<span style=\"color: #0087ff; text-decoration-color: #0087ff\">Dense</span>)                 │ (<span style=\"color: #00d7ff; text-decoration-color: #00d7ff\">None</span>, <span style=\"color: #00af00; text-decoration-color: #00af00\">128</span>)            │         <span style=\"color: #00af00; text-decoration-color: #00af00\">5,248</span> │\n",
       "├─────────────────────────────────┼────────────────────────┼───────────────┤\n",
       "│ batch_normalization_7           │ (<span style=\"color: #00d7ff; text-decoration-color: #00d7ff\">None</span>, <span style=\"color: #00af00; text-decoration-color: #00af00\">128</span>)            │           <span style=\"color: #00af00; text-decoration-color: #00af00\">512</span> │\n",
       "│ (<span style=\"color: #0087ff; text-decoration-color: #0087ff\">BatchNormalization</span>)            │                        │               │\n",
       "├─────────────────────────────────┼────────────────────────┼───────────────┤\n",
       "│ activation_10 (<span style=\"color: #0087ff; text-decoration-color: #0087ff\">Activation</span>)      │ (<span style=\"color: #00d7ff; text-decoration-color: #00d7ff\">None</span>, <span style=\"color: #00af00; text-decoration-color: #00af00\">128</span>)            │             <span style=\"color: #00af00; text-decoration-color: #00af00\">0</span> │\n",
       "├─────────────────────────────────┼────────────────────────┼───────────────┤\n",
       "│ dropout_5 (<span style=\"color: #0087ff; text-decoration-color: #0087ff\">Dropout</span>)             │ (<span style=\"color: #00d7ff; text-decoration-color: #00d7ff\">None</span>, <span style=\"color: #00af00; text-decoration-color: #00af00\">128</span>)            │             <span style=\"color: #00af00; text-decoration-color: #00af00\">0</span> │\n",
       "├─────────────────────────────────┼────────────────────────┼───────────────┤\n",
       "│ reshape_5 (<span style=\"color: #0087ff; text-decoration-color: #0087ff\">Reshape</span>)             │ (<span style=\"color: #00d7ff; text-decoration-color: #00d7ff\">None</span>, <span style=\"color: #00af00; text-decoration-color: #00af00\">128</span>, <span style=\"color: #00af00; text-decoration-color: #00af00\">1</span>)         │             <span style=\"color: #00af00; text-decoration-color: #00af00\">0</span> │\n",
       "├─────────────────────────────────┼────────────────────────┼───────────────┤\n",
       "│ conv1d_1 (<span style=\"color: #0087ff; text-decoration-color: #0087ff\">Conv1D</span>)               │ (<span style=\"color: #00d7ff; text-decoration-color: #00d7ff\">None</span>, <span style=\"color: #00af00; text-decoration-color: #00af00\">126</span>, <span style=\"color: #00af00; text-decoration-color: #00af00\">4</span>)         │            <span style=\"color: #00af00; text-decoration-color: #00af00\">16</span> │\n",
       "├─────────────────────────────────┼────────────────────────┼───────────────┤\n",
       "│ batch_normalization_8           │ (<span style=\"color: #00d7ff; text-decoration-color: #00d7ff\">None</span>, <span style=\"color: #00af00; text-decoration-color: #00af00\">126</span>, <span style=\"color: #00af00; text-decoration-color: #00af00\">4</span>)         │            <span style=\"color: #00af00; text-decoration-color: #00af00\">16</span> │\n",
       "│ (<span style=\"color: #0087ff; text-decoration-color: #0087ff\">BatchNormalization</span>)            │                        │               │\n",
       "├─────────────────────────────────┼────────────────────────┼───────────────┤\n",
       "│ activation_11 (<span style=\"color: #0087ff; text-decoration-color: #0087ff\">Activation</span>)      │ (<span style=\"color: #00d7ff; text-decoration-color: #00d7ff\">None</span>, <span style=\"color: #00af00; text-decoration-color: #00af00\">126</span>, <span style=\"color: #00af00; text-decoration-color: #00af00\">4</span>)         │             <span style=\"color: #00af00; text-decoration-color: #00af00\">0</span> │\n",
       "├─────────────────────────────────┼────────────────────────┼───────────────┤\n",
       "│ average_pooling1d               │ (<span style=\"color: #00d7ff; text-decoration-color: #00d7ff\">None</span>, <span style=\"color: #00af00; text-decoration-color: #00af00\">63</span>, <span style=\"color: #00af00; text-decoration-color: #00af00\">4</span>)          │             <span style=\"color: #00af00; text-decoration-color: #00af00\">0</span> │\n",
       "│ (<span style=\"color: #0087ff; text-decoration-color: #0087ff\">AveragePooling1D</span>)              │                        │               │\n",
       "├─────────────────────────────────┼────────────────────────┼───────────────┤\n",
       "│ conv1d_2 (<span style=\"color: #0087ff; text-decoration-color: #0087ff\">Conv1D</span>)               │ (<span style=\"color: #00d7ff; text-decoration-color: #00d7ff\">None</span>, <span style=\"color: #00af00; text-decoration-color: #00af00\">59</span>, <span style=\"color: #00af00; text-decoration-color: #00af00\">8</span>)          │           <span style=\"color: #00af00; text-decoration-color: #00af00\">168</span> │\n",
       "├─────────────────────────────────┼────────────────────────┼───────────────┤\n",
       "│ batch_normalization_9           │ (<span style=\"color: #00d7ff; text-decoration-color: #00d7ff\">None</span>, <span style=\"color: #00af00; text-decoration-color: #00af00\">59</span>, <span style=\"color: #00af00; text-decoration-color: #00af00\">8</span>)          │            <span style=\"color: #00af00; text-decoration-color: #00af00\">32</span> │\n",
       "│ (<span style=\"color: #0087ff; text-decoration-color: #0087ff\">BatchNormalization</span>)            │                        │               │\n",
       "├─────────────────────────────────┼────────────────────────┼───────────────┤\n",
       "│ activation_12 (<span style=\"color: #0087ff; text-decoration-color: #0087ff\">Activation</span>)      │ (<span style=\"color: #00d7ff; text-decoration-color: #00d7ff\">None</span>, <span style=\"color: #00af00; text-decoration-color: #00af00\">59</span>, <span style=\"color: #00af00; text-decoration-color: #00af00\">8</span>)          │             <span style=\"color: #00af00; text-decoration-color: #00af00\">0</span> │\n",
       "├─────────────────────────────────┼────────────────────────┼───────────────┤\n",
       "│ average_pooling1d_1             │ (<span style=\"color: #00d7ff; text-decoration-color: #00d7ff\">None</span>, <span style=\"color: #00af00; text-decoration-color: #00af00\">29</span>, <span style=\"color: #00af00; text-decoration-color: #00af00\">8</span>)          │             <span style=\"color: #00af00; text-decoration-color: #00af00\">0</span> │\n",
       "│ (<span style=\"color: #0087ff; text-decoration-color: #0087ff\">AveragePooling1D</span>)              │                        │               │\n",
       "├─────────────────────────────────┼────────────────────────┼───────────────┤\n",
       "│ flatten_1 (<span style=\"color: #0087ff; text-decoration-color: #0087ff\">Flatten</span>)             │ (<span style=\"color: #00d7ff; text-decoration-color: #00d7ff\">None</span>, <span style=\"color: #00af00; text-decoration-color: #00af00\">232</span>)            │             <span style=\"color: #00af00; text-decoration-color: #00af00\">0</span> │\n",
       "├─────────────────────────────────┼────────────────────────┼───────────────┤\n",
       "│ dense_10 (<span style=\"color: #0087ff; text-decoration-color: #0087ff\">Dense</span>)                │ (<span style=\"color: #00d7ff; text-decoration-color: #00d7ff\">None</span>, <span style=\"color: #00af00; text-decoration-color: #00af00\">2</span>)              │           <span style=\"color: #00af00; text-decoration-color: #00af00\">466</span> │\n",
       "├─────────────────────────────────┼────────────────────────┼───────────────┤\n",
       "│ activation_13 (<span style=\"color: #0087ff; text-decoration-color: #0087ff\">Activation</span>)      │ (<span style=\"color: #00d7ff; text-decoration-color: #00d7ff\">None</span>, <span style=\"color: #00af00; text-decoration-color: #00af00\">2</span>)              │             <span style=\"color: #00af00; text-decoration-color: #00af00\">0</span> │\n",
       "└─────────────────────────────────┴────────────────────────┴───────────────┘\n",
       "</pre>\n"
      ],
      "text/plain": [
       "┏━━━━━━━━━━━━━━━━━━━━━━━━━━━━━━━━━┳━━━━━━━━━━━━━━━━━━━━━━━━┳━━━━━━━━━━━━━━━┓\n",
       "┃\u001b[1m \u001b[0m\u001b[1mLayer (type)                   \u001b[0m\u001b[1m \u001b[0m┃\u001b[1m \u001b[0m\u001b[1mOutput Shape          \u001b[0m\u001b[1m \u001b[0m┃\u001b[1m \u001b[0m\u001b[1m      Param #\u001b[0m\u001b[1m \u001b[0m┃\n",
       "┡━━━━━━━━━━━━━━━━━━━━━━━━━━━━━━━━━╇━━━━━━━━━━━━━━━━━━━━━━━━╇━━━━━━━━━━━━━━━┩\n",
       "│ input_layer_3 (\u001b[38;5;33mInputLayer\u001b[0m)      │ (\u001b[38;5;45mNone\u001b[0m, \u001b[38;5;34m40\u001b[0m, \u001b[38;5;34m1\u001b[0m)          │             \u001b[38;5;34m0\u001b[0m │\n",
       "├─────────────────────────────────┼────────────────────────┼───────────────┤\n",
       "│ reshape_4 (\u001b[38;5;33mReshape\u001b[0m)             │ (\u001b[38;5;45mNone\u001b[0m, \u001b[38;5;34m40\u001b[0m)             │             \u001b[38;5;34m0\u001b[0m │\n",
       "├─────────────────────────────────┼────────────────────────┼───────────────┤\n",
       "│ dense_9 (\u001b[38;5;33mDense\u001b[0m)                 │ (\u001b[38;5;45mNone\u001b[0m, \u001b[38;5;34m128\u001b[0m)            │         \u001b[38;5;34m5,248\u001b[0m │\n",
       "├─────────────────────────────────┼────────────────────────┼───────────────┤\n",
       "│ batch_normalization_7           │ (\u001b[38;5;45mNone\u001b[0m, \u001b[38;5;34m128\u001b[0m)            │           \u001b[38;5;34m512\u001b[0m │\n",
       "│ (\u001b[38;5;33mBatchNormalization\u001b[0m)            │                        │               │\n",
       "├─────────────────────────────────┼────────────────────────┼───────────────┤\n",
       "│ activation_10 (\u001b[38;5;33mActivation\u001b[0m)      │ (\u001b[38;5;45mNone\u001b[0m, \u001b[38;5;34m128\u001b[0m)            │             \u001b[38;5;34m0\u001b[0m │\n",
       "├─────────────────────────────────┼────────────────────────┼───────────────┤\n",
       "│ dropout_5 (\u001b[38;5;33mDropout\u001b[0m)             │ (\u001b[38;5;45mNone\u001b[0m, \u001b[38;5;34m128\u001b[0m)            │             \u001b[38;5;34m0\u001b[0m │\n",
       "├─────────────────────────────────┼────────────────────────┼───────────────┤\n",
       "│ reshape_5 (\u001b[38;5;33mReshape\u001b[0m)             │ (\u001b[38;5;45mNone\u001b[0m, \u001b[38;5;34m128\u001b[0m, \u001b[38;5;34m1\u001b[0m)         │             \u001b[38;5;34m0\u001b[0m │\n",
       "├─────────────────────────────────┼────────────────────────┼───────────────┤\n",
       "│ conv1d_1 (\u001b[38;5;33mConv1D\u001b[0m)               │ (\u001b[38;5;45mNone\u001b[0m, \u001b[38;5;34m126\u001b[0m, \u001b[38;5;34m4\u001b[0m)         │            \u001b[38;5;34m16\u001b[0m │\n",
       "├─────────────────────────────────┼────────────────────────┼───────────────┤\n",
       "│ batch_normalization_8           │ (\u001b[38;5;45mNone\u001b[0m, \u001b[38;5;34m126\u001b[0m, \u001b[38;5;34m4\u001b[0m)         │            \u001b[38;5;34m16\u001b[0m │\n",
       "│ (\u001b[38;5;33mBatchNormalization\u001b[0m)            │                        │               │\n",
       "├─────────────────────────────────┼────────────────────────┼───────────────┤\n",
       "│ activation_11 (\u001b[38;5;33mActivation\u001b[0m)      │ (\u001b[38;5;45mNone\u001b[0m, \u001b[38;5;34m126\u001b[0m, \u001b[38;5;34m4\u001b[0m)         │             \u001b[38;5;34m0\u001b[0m │\n",
       "├─────────────────────────────────┼────────────────────────┼───────────────┤\n",
       "│ average_pooling1d               │ (\u001b[38;5;45mNone\u001b[0m, \u001b[38;5;34m63\u001b[0m, \u001b[38;5;34m4\u001b[0m)          │             \u001b[38;5;34m0\u001b[0m │\n",
       "│ (\u001b[38;5;33mAveragePooling1D\u001b[0m)              │                        │               │\n",
       "├─────────────────────────────────┼────────────────────────┼───────────────┤\n",
       "│ conv1d_2 (\u001b[38;5;33mConv1D\u001b[0m)               │ (\u001b[38;5;45mNone\u001b[0m, \u001b[38;5;34m59\u001b[0m, \u001b[38;5;34m8\u001b[0m)          │           \u001b[38;5;34m168\u001b[0m │\n",
       "├─────────────────────────────────┼────────────────────────┼───────────────┤\n",
       "│ batch_normalization_9           │ (\u001b[38;5;45mNone\u001b[0m, \u001b[38;5;34m59\u001b[0m, \u001b[38;5;34m8\u001b[0m)          │            \u001b[38;5;34m32\u001b[0m │\n",
       "│ (\u001b[38;5;33mBatchNormalization\u001b[0m)            │                        │               │\n",
       "├─────────────────────────────────┼────────────────────────┼───────────────┤\n",
       "│ activation_12 (\u001b[38;5;33mActivation\u001b[0m)      │ (\u001b[38;5;45mNone\u001b[0m, \u001b[38;5;34m59\u001b[0m, \u001b[38;5;34m8\u001b[0m)          │             \u001b[38;5;34m0\u001b[0m │\n",
       "├─────────────────────────────────┼────────────────────────┼───────────────┤\n",
       "│ average_pooling1d_1             │ (\u001b[38;5;45mNone\u001b[0m, \u001b[38;5;34m29\u001b[0m, \u001b[38;5;34m8\u001b[0m)          │             \u001b[38;5;34m0\u001b[0m │\n",
       "│ (\u001b[38;5;33mAveragePooling1D\u001b[0m)              │                        │               │\n",
       "├─────────────────────────────────┼────────────────────────┼───────────────┤\n",
       "│ flatten_1 (\u001b[38;5;33mFlatten\u001b[0m)             │ (\u001b[38;5;45mNone\u001b[0m, \u001b[38;5;34m232\u001b[0m)            │             \u001b[38;5;34m0\u001b[0m │\n",
       "├─────────────────────────────────┼────────────────────────┼───────────────┤\n",
       "│ dense_10 (\u001b[38;5;33mDense\u001b[0m)                │ (\u001b[38;5;45mNone\u001b[0m, \u001b[38;5;34m2\u001b[0m)              │           \u001b[38;5;34m466\u001b[0m │\n",
       "├─────────────────────────────────┼────────────────────────┼───────────────┤\n",
       "│ activation_13 (\u001b[38;5;33mActivation\u001b[0m)      │ (\u001b[38;5;45mNone\u001b[0m, \u001b[38;5;34m2\u001b[0m)              │             \u001b[38;5;34m0\u001b[0m │\n",
       "└─────────────────────────────────┴────────────────────────┴───────────────┘\n"
      ]
     },
     "metadata": {},
     "output_type": "display_data"
    },
    {
     "data": {
      "text/html": [
       "<pre style=\"white-space:pre;overflow-x:auto;line-height:normal;font-family:Menlo,'DejaVu Sans Mono',consolas,'Courier New',monospace\"><span style=\"font-weight: bold\"> Total params: </span><span style=\"color: #00af00; text-decoration-color: #00af00\">6,458</span> (25.23 KB)\n",
       "</pre>\n"
      ],
      "text/plain": [
       "\u001b[1m Total params: \u001b[0m\u001b[38;5;34m6,458\u001b[0m (25.23 KB)\n"
      ]
     },
     "metadata": {},
     "output_type": "display_data"
    },
    {
     "data": {
      "text/html": [
       "<pre style=\"white-space:pre;overflow-x:auto;line-height:normal;font-family:Menlo,'DejaVu Sans Mono',consolas,'Courier New',monospace\"><span style=\"font-weight: bold\"> Trainable params: </span><span style=\"color: #00af00; text-decoration-color: #00af00\">6,178</span> (24.13 KB)\n",
       "</pre>\n"
      ],
      "text/plain": [
       "\u001b[1m Trainable params: \u001b[0m\u001b[38;5;34m6,178\u001b[0m (24.13 KB)\n"
      ]
     },
     "metadata": {},
     "output_type": "display_data"
    },
    {
     "data": {
      "text/html": [
       "<pre style=\"white-space:pre;overflow-x:auto;line-height:normal;font-family:Menlo,'DejaVu Sans Mono',consolas,'Courier New',monospace\"><span style=\"font-weight: bold\"> Non-trainable params: </span><span style=\"color: #00af00; text-decoration-color: #00af00\">280</span> (1.09 KB)\n",
       "</pre>\n"
      ],
      "text/plain": [
       "\u001b[1m Non-trainable params: \u001b[0m\u001b[38;5;34m280\u001b[0m (1.09 KB)\n"
      ]
     },
     "metadata": {},
     "output_type": "display_data"
    }
   ],
   "source": [
    "# Định nghĩa lớp đầu vào với kích thước (số đặc trưng, 1)\n",
    "inputs = keras.layers.Input(shape=(x_train.shape[1], 1))\n",
    "\n",
    "# Chuyển đổi kích thước từ (số đặc trưng, 1) sang (số đặc trưng,)\n",
    "RS0 = keras.layers.Reshape((x_train.shape[1], ))(inputs)\n",
    "\n",
    "# Lớp Fully Connected (Dense) đầu tiên với 128 neuron, khởi tạo trọng số bằng VarianceScaling\n",
    "FC0 = keras.layers.Dense(128, bias_initializer=keras.initializers.VarianceScaling())(RS0)\n",
    "\n",
    "# Batch Normalization để chuẩn hóa đầu ra của lớp Dense, giúp ổn định quá trình huấn luyện\n",
    "BN0 = keras.layers.BatchNormalization(axis=-1)(FC0)\n",
    "\n",
    "# Hàm kích hoạt ReLU để thêm tính phi tuyến cho mô hình\n",
    "AC0 = keras.layers.Activation('relu')(BN0)\n",
    "\n",
    "# Dropout để tắt ngẫu nhiên 20% neuron, giúp giảm overfitting\n",
    "DP0 = keras.layers.Dropout(0.2)(AC0)\n",
    "\n",
    "# Chuyển đổi kích thước từ (128,) sang (128, 1) để phù hợp với lớp Conv1D\n",
    "RS1 = keras.layers.Reshape((128, 1))(DP0)\n",
    "\n",
    "# Lớp Convolutional 1D với 4 bộ lọc (filters), kernel size = 3 và strides = 1\n",
    "FC1 = keras.layers.Conv1D(4, 3, strides=1)(RS1)\n",
    "\n",
    "# Batch Normalization để chuẩn hóa đầu ra của lớp Conv1D\n",
    "BN1 = keras.layers.BatchNormalization(axis=-1)(FC1)\n",
    "\n",
    "# Hàm kích hoạt ReLU cho lớp Conv1D\n",
    "AC1 = keras.layers.Activation('relu')(BN1)\n",
    "\n",
    "# Lớp Average Pooling 1D với kích thước cửa sổ (pool_size) là 2, giảm kích thước đầu ra một nửa\n",
    "Pool1 = keras.layers.AveragePooling1D(pool_size=2)(AC1)\n",
    "\n",
    "# Lớp Convolutional 1D thứ hai với 8 bộ lọc (filters), kernel size = 5 và strides = 1\n",
    "FC2 = keras.layers.Conv1D(8, 5, strides=1)(Pool1)\n",
    "\n",
    "# Batch Normalization để chuẩn hóa đầu ra của lớp Conv1D thứ hai\n",
    "BN2 = keras.layers.BatchNormalization(axis=-1)(FC2)\n",
    "\n",
    "# Hàm kích hoạt ReLU cho lớp Conv1D thứ hai\n",
    "AC2 = keras.layers.Activation('relu')(BN2)\n",
    "\n",
    "# Lớp Average Pooling 1D với kích thước cửa sổ (pool_size) là 2, giảm kích thước đầu ra một nửa\n",
    "Pool2 = keras.layers.AveragePooling1D(pool_size=2)(AC2)\n",
    "\n",
    "# Làm phẳng đầu ra từ lớp Pooling để chuyển thành vector 1 chiều cho lớp Dense\n",
    "FL1 = keras.layers.Flatten()(Pool2)\n",
    "\n",
    "# Lớp Fully Connected (Dense) cuối cùng với 2 neuron, tương ứng với 2 lớp đầu ra\n",
    "FC3 = keras.layers.Dense(2, bias_initializer=keras.initializers.VarianceScaling())(FL1)\n",
    "\n",
    "# Hàm kích hoạt Softmax để chuyển đổi đầu ra thành xác suất của 2 lớp\n",
    "outputs = keras.layers.Activation('softmax')(FC3)\n",
    "\n",
    "# Định nghĩa mô hình với đầu vào và đầu ra đã tạo\n",
    "myCNN1D2 = keras.Model(inputs=inputs, outputs=outputs)\n",
    "\n",
    "# Biên dịch mô hình với:\n",
    "# - Optimizer: Adam (mặc định learning rate = 0.001)\n",
    "# - Loss: categorical_crossentropy (dùng cho phân loại với nhãn one-hot encoded)\n",
    "# - Metrics: accuracy (độ chính xác)\n",
    "myCNN1D2.compile(optimizer=keras.optimizers.Adam(),\n",
    "                 loss='categorical_crossentropy',\n",
    "                 metrics=['accuracy'])\n",
    "\n",
    "# Hiển thị tóm tắt kiến trúc mô hình, bao gồm kích thước đầu ra và số lượng tham số của từng lớp\n",
    "myCNN1D2.summary()\n"
   ]
  }
 ],
 "metadata": {
  "kernelspec": {
   "display_name": "Python 3",
   "language": "python",
   "name": "python3"
  },
  "language_info": {
   "codemirror_mode": {
    "name": "ipython",
    "version": 3
   },
   "file_extension": ".py",
   "mimetype": "text/x-python",
   "name": "python",
   "nbconvert_exporter": "python",
   "pygments_lexer": "ipython3",
   "version": "3.11.8"
  }
 },
 "nbformat": 4,
 "nbformat_minor": 2
}
